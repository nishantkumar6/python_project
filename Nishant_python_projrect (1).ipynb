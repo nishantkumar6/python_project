{
 "cells": [
  {
   "cell_type": "markdown",
   "id": "9eb61586",
   "metadata": {},
   "source": [
    "## 1. Import claims_data.csv and cust_data.csv which is provided to you and combine the two datasets appropriately to create a 360-degree view of the data. Use the same for the subsequent questions.\n",
    "\n"
   ]
  },
  {
   "cell_type": "code",
   "execution_count": 1,
   "id": "06960a3e",
   "metadata": {},
   "outputs": [],
   "source": [
    "import pandas as pd\n",
    "import numpy as np\n",
    "import matplotlib.pyplot as mp"
   ]
  },
  {
   "cell_type": "code",
   "execution_count": 16,
   "id": "31da3a2c",
   "metadata": {},
   "outputs": [],
   "source": [
    "cu=pd.read_csv('cust_demographics.csv')"
   ]
  },
  {
   "cell_type": "code",
   "execution_count": 17,
   "id": "65f72255",
   "metadata": {},
   "outputs": [
    {
     "data": {
      "text/html": [
       "<div>\n",
       "<style scoped>\n",
       "    .dataframe tbody tr th:only-of-type {\n",
       "        vertical-align: middle;\n",
       "    }\n",
       "\n",
       "    .dataframe tbody tr th {\n",
       "        vertical-align: top;\n",
       "    }\n",
       "\n",
       "    .dataframe thead th {\n",
       "        text-align: right;\n",
       "    }\n",
       "</style>\n",
       "<table border=\"1\" class=\"dataframe\">\n",
       "  <thead>\n",
       "    <tr style=\"text-align: right;\">\n",
       "      <th></th>\n",
       "      <th>CUST_ID</th>\n",
       "      <th>gender</th>\n",
       "      <th>DateOfBirth</th>\n",
       "      <th>State</th>\n",
       "      <th>Contact</th>\n",
       "      <th>Segment</th>\n",
       "    </tr>\n",
       "  </thead>\n",
       "  <tbody>\n",
       "    <tr>\n",
       "      <th>0</th>\n",
       "      <td>21868593</td>\n",
       "      <td>Female</td>\n",
       "      <td>12-Jan-79</td>\n",
       "      <td>VT</td>\n",
       "      <td>789-916-8172</td>\n",
       "      <td>Platinum</td>\n",
       "    </tr>\n",
       "    <tr>\n",
       "      <th>1</th>\n",
       "      <td>75740424</td>\n",
       "      <td>Female</td>\n",
       "      <td>13-Jan-70</td>\n",
       "      <td>ME</td>\n",
       "      <td>265-543-1264</td>\n",
       "      <td>Silver</td>\n",
       "    </tr>\n",
       "    <tr>\n",
       "      <th>2</th>\n",
       "      <td>30308357</td>\n",
       "      <td>Female</td>\n",
       "      <td>11-Mar-84</td>\n",
       "      <td>TN</td>\n",
       "      <td>798-631-4758</td>\n",
       "      <td>Silver</td>\n",
       "    </tr>\n",
       "    <tr>\n",
       "      <th>3</th>\n",
       "      <td>47830476</td>\n",
       "      <td>Female</td>\n",
       "      <td>01-May-86</td>\n",
       "      <td>MA</td>\n",
       "      <td>413-187-7945</td>\n",
       "      <td>Silver</td>\n",
       "    </tr>\n",
       "    <tr>\n",
       "      <th>4</th>\n",
       "      <td>19269962</td>\n",
       "      <td>Male</td>\n",
       "      <td>13-May-77</td>\n",
       "      <td>NV</td>\n",
       "      <td>956-871-8691</td>\n",
       "      <td>Gold</td>\n",
       "    </tr>\n",
       "    <tr>\n",
       "      <th>...</th>\n",
       "      <td>...</td>\n",
       "      <td>...</td>\n",
       "      <td>...</td>\n",
       "      <td>...</td>\n",
       "      <td>...</td>\n",
       "      <td>...</td>\n",
       "    </tr>\n",
       "    <tr>\n",
       "      <th>1080</th>\n",
       "      <td>79539873</td>\n",
       "      <td>Female</td>\n",
       "      <td>15-Mar-81</td>\n",
       "      <td>ND</td>\n",
       "      <td>459-425-4319</td>\n",
       "      <td>Platinum</td>\n",
       "    </tr>\n",
       "    <tr>\n",
       "      <th>1081</th>\n",
       "      <td>42364152</td>\n",
       "      <td>Female</td>\n",
       "      <td>07-Jul-96</td>\n",
       "      <td>ID</td>\n",
       "      <td>529-462-1635</td>\n",
       "      <td>Silver</td>\n",
       "    </tr>\n",
       "    <tr>\n",
       "      <th>1082</th>\n",
       "      <td>19888166</td>\n",
       "      <td>Male</td>\n",
       "      <td>11-Apr-90</td>\n",
       "      <td>WI</td>\n",
       "      <td>712-651-9613</td>\n",
       "      <td>Gold</td>\n",
       "    </tr>\n",
       "    <tr>\n",
       "      <th>1083</th>\n",
       "      <td>11256802</td>\n",
       "      <td>Female</td>\n",
       "      <td>22-Oct-64</td>\n",
       "      <td>LA</td>\n",
       "      <td>469-345-5617</td>\n",
       "      <td>Silver</td>\n",
       "    </tr>\n",
       "    <tr>\n",
       "      <th>1084</th>\n",
       "      <td>61575264</td>\n",
       "      <td>Male</td>\n",
       "      <td>12-Jul-95</td>\n",
       "      <td>WY</td>\n",
       "      <td>182-385-1392</td>\n",
       "      <td>Gold</td>\n",
       "    </tr>\n",
       "  </tbody>\n",
       "</table>\n",
       "<p>1085 rows × 6 columns</p>\n",
       "</div>"
      ],
      "text/plain": [
       "       CUST_ID  gender DateOfBirth State       Contact   Segment\n",
       "0     21868593  Female   12-Jan-79    VT  789-916-8172  Platinum\n",
       "1     75740424  Female   13-Jan-70    ME  265-543-1264    Silver\n",
       "2     30308357  Female   11-Mar-84    TN  798-631-4758    Silver\n",
       "3     47830476  Female   01-May-86    MA  413-187-7945    Silver\n",
       "4     19269962    Male   13-May-77    NV  956-871-8691      Gold\n",
       "...        ...     ...         ...   ...           ...       ...\n",
       "1080  79539873  Female   15-Mar-81    ND  459-425-4319  Platinum\n",
       "1081  42364152  Female   07-Jul-96    ID  529-462-1635    Silver\n",
       "1082  19888166    Male   11-Apr-90    WI  712-651-9613      Gold\n",
       "1083  11256802  Female   22-Oct-64    LA  469-345-5617    Silver\n",
       "1084  61575264    Male   12-Jul-95    WY  182-385-1392      Gold\n",
       "\n",
       "[1085 rows x 6 columns]"
      ]
     },
     "execution_count": 17,
     "metadata": {},
     "output_type": "execute_result"
    }
   ],
   "source": [
    "cu"
   ]
  },
  {
   "cell_type": "code",
   "execution_count": 18,
   "id": "69af57ac",
   "metadata": {},
   "outputs": [],
   "source": [
    "cl=pd.read_csv('claims (1).csv')"
   ]
  },
  {
   "cell_type": "code",
   "execution_count": 19,
   "id": "af1038b1",
   "metadata": {},
   "outputs": [
    {
     "data": {
      "text/html": [
       "<div>\n",
       "<style scoped>\n",
       "    .dataframe tbody tr th:only-of-type {\n",
       "        vertical-align: middle;\n",
       "    }\n",
       "\n",
       "    .dataframe tbody tr th {\n",
       "        vertical-align: top;\n",
       "    }\n",
       "\n",
       "    .dataframe thead th {\n",
       "        text-align: right;\n",
       "    }\n",
       "</style>\n",
       "<table border=\"1\" class=\"dataframe\">\n",
       "  <thead>\n",
       "    <tr style=\"text-align: right;\">\n",
       "      <th></th>\n",
       "      <th>claim_id</th>\n",
       "      <th>customer_id</th>\n",
       "      <th>incident_cause</th>\n",
       "      <th>claim_date</th>\n",
       "      <th>claim_area</th>\n",
       "      <th>police_report</th>\n",
       "      <th>claim_type</th>\n",
       "      <th>claim_amount</th>\n",
       "      <th>total_policy_claims</th>\n",
       "      <th>fraudulent</th>\n",
       "    </tr>\n",
       "  </thead>\n",
       "  <tbody>\n",
       "    <tr>\n",
       "      <th>0</th>\n",
       "      <td>54004764</td>\n",
       "      <td>21868593</td>\n",
       "      <td>Driver error</td>\n",
       "      <td>11/27/2017</td>\n",
       "      <td>Auto</td>\n",
       "      <td>No</td>\n",
       "      <td>Material only</td>\n",
       "      <td>$2980</td>\n",
       "      <td>1.0</td>\n",
       "      <td>No</td>\n",
       "    </tr>\n",
       "    <tr>\n",
       "      <th>1</th>\n",
       "      <td>33985796</td>\n",
       "      <td>75740424</td>\n",
       "      <td>Crime</td>\n",
       "      <td>10/03/2018</td>\n",
       "      <td>Home</td>\n",
       "      <td>Unknown</td>\n",
       "      <td>Material only</td>\n",
       "      <td>$2980</td>\n",
       "      <td>3.0</td>\n",
       "      <td>No</td>\n",
       "    </tr>\n",
       "    <tr>\n",
       "      <th>2</th>\n",
       "      <td>53522022</td>\n",
       "      <td>30308357</td>\n",
       "      <td>Other driver error</td>\n",
       "      <td>02/02/2018</td>\n",
       "      <td>Auto</td>\n",
       "      <td>No</td>\n",
       "      <td>Material only</td>\n",
       "      <td>$3369.5</td>\n",
       "      <td>1.0</td>\n",
       "      <td>Yes</td>\n",
       "    </tr>\n",
       "    <tr>\n",
       "      <th>3</th>\n",
       "      <td>13015401</td>\n",
       "      <td>47830476</td>\n",
       "      <td>Natural causes</td>\n",
       "      <td>06/17/2018</td>\n",
       "      <td>Auto</td>\n",
       "      <td>No</td>\n",
       "      <td>Material only</td>\n",
       "      <td>$1680</td>\n",
       "      <td>1.0</td>\n",
       "      <td>No</td>\n",
       "    </tr>\n",
       "    <tr>\n",
       "      <th>4</th>\n",
       "      <td>22890252</td>\n",
       "      <td>19269962</td>\n",
       "      <td>Crime</td>\n",
       "      <td>01/13/2018</td>\n",
       "      <td>Auto</td>\n",
       "      <td>No</td>\n",
       "      <td>Material only</td>\n",
       "      <td>$2680</td>\n",
       "      <td>1.0</td>\n",
       "      <td>No</td>\n",
       "    </tr>\n",
       "    <tr>\n",
       "      <th>5</th>\n",
       "      <td>24050443</td>\n",
       "      <td>21831191</td>\n",
       "      <td>Other driver error</td>\n",
       "      <td>10/04/2017</td>\n",
       "      <td>Auto</td>\n",
       "      <td>No</td>\n",
       "      <td>Injury only</td>\n",
       "      <td>$38306.5</td>\n",
       "      <td>3.0</td>\n",
       "      <td>Yes</td>\n",
       "    </tr>\n",
       "    <tr>\n",
       "      <th>6</th>\n",
       "      <td>12878692</td>\n",
       "      <td>18401412</td>\n",
       "      <td>Driver error</td>\n",
       "      <td>01/13/2018</td>\n",
       "      <td>Auto</td>\n",
       "      <td>No</td>\n",
       "      <td>Material only</td>\n",
       "      <td>$1730</td>\n",
       "      <td>4.0</td>\n",
       "      <td>No</td>\n",
       "    </tr>\n",
       "    <tr>\n",
       "      <th>7</th>\n",
       "      <td>27026412</td>\n",
       "      <td>73486606</td>\n",
       "      <td>Natural causes</td>\n",
       "      <td>04/10/2018</td>\n",
       "      <td>Auto</td>\n",
       "      <td>No</td>\n",
       "      <td>Material only</td>\n",
       "      <td>$1160</td>\n",
       "      <td>3.0</td>\n",
       "      <td>No</td>\n",
       "    </tr>\n",
       "    <tr>\n",
       "      <th>8</th>\n",
       "      <td>43908336</td>\n",
       "      <td>32813689</td>\n",
       "      <td>Crime</td>\n",
       "      <td>02/15/2018</td>\n",
       "      <td>Auto</td>\n",
       "      <td>Unknown</td>\n",
       "      <td>Material only</td>\n",
       "      <td>$2620</td>\n",
       "      <td>1.0</td>\n",
       "      <td>No</td>\n",
       "    </tr>\n",
       "    <tr>\n",
       "      <th>9</th>\n",
       "      <td>63246959</td>\n",
       "      <td>33507197</td>\n",
       "      <td>Crime</td>\n",
       "      <td>07/22/2017</td>\n",
       "      <td>Auto</td>\n",
       "      <td>No</td>\n",
       "      <td>Material only</td>\n",
       "      <td>$2748.5</td>\n",
       "      <td>2.0</td>\n",
       "      <td>Yes</td>\n",
       "    </tr>\n",
       "  </tbody>\n",
       "</table>\n",
       "</div>"
      ],
      "text/plain": [
       "   claim_id  customer_id      incident_cause  claim_date claim_area  \\\n",
       "0  54004764     21868593        Driver error  11/27/2017       Auto   \n",
       "1  33985796     75740424               Crime  10/03/2018       Home   \n",
       "2  53522022     30308357  Other driver error  02/02/2018       Auto   \n",
       "3  13015401     47830476      Natural causes  06/17/2018       Auto   \n",
       "4  22890252     19269962               Crime  01/13/2018       Auto   \n",
       "5  24050443     21831191  Other driver error  10/04/2017       Auto   \n",
       "6  12878692     18401412        Driver error  01/13/2018       Auto   \n",
       "7  27026412     73486606      Natural causes  04/10/2018       Auto   \n",
       "8  43908336     32813689               Crime  02/15/2018       Auto   \n",
       "9  63246959     33507197               Crime  07/22/2017       Auto   \n",
       "\n",
       "  police_report     claim_type claim_amount  total_policy_claims fraudulent  \n",
       "0            No  Material only        $2980                  1.0         No  \n",
       "1       Unknown  Material only        $2980                  3.0         No  \n",
       "2            No  Material only      $3369.5                  1.0        Yes  \n",
       "3            No  Material only        $1680                  1.0         No  \n",
       "4            No  Material only        $2680                  1.0         No  \n",
       "5            No    Injury only     $38306.5                  3.0        Yes  \n",
       "6            No  Material only        $1730                  4.0         No  \n",
       "7            No  Material only        $1160                  3.0         No  \n",
       "8       Unknown  Material only        $2620                  1.0         No  \n",
       "9            No  Material only      $2748.5                  2.0        Yes  "
      ]
     },
     "execution_count": 19,
     "metadata": {},
     "output_type": "execute_result"
    }
   ],
   "source": [
    "cl.head(10)"
   ]
  },
  {
   "cell_type": "code",
   "execution_count": 30,
   "id": "daefe618",
   "metadata": {},
   "outputs": [
    {
     "data": {
      "text/plain": [
       "array(['Driver error', 'Crime', 'Other driver error', 'Natural causes',\n",
       "       'Other causes'], dtype=object)"
      ]
     },
     "execution_count": 30,
     "metadata": {},
     "output_type": "execute_result"
    }
   ],
   "source": [
    "cl['incident_cause'].unique()"
   ]
  },
  {
   "cell_type": "code",
   "execution_count": 21,
   "id": "af19b3b0",
   "metadata": {},
   "outputs": [],
   "source": [
    "cl=cl.rename(columns={'customer_id':'CUST_ID'})"
   ]
  },
  {
   "cell_type": "code",
   "execution_count": 22,
   "id": "e87c56b1",
   "metadata": {},
   "outputs": [],
   "source": [
    "cul=pd.merge(cl,cu,how='inner',on='CUST_ID')"
   ]
  },
  {
   "cell_type": "code",
   "execution_count": 23,
   "id": "8ea6528a",
   "metadata": {},
   "outputs": [
    {
     "data": {
      "text/html": [
       "<div>\n",
       "<style scoped>\n",
       "    .dataframe tbody tr th:only-of-type {\n",
       "        vertical-align: middle;\n",
       "    }\n",
       "\n",
       "    .dataframe tbody tr th {\n",
       "        vertical-align: top;\n",
       "    }\n",
       "\n",
       "    .dataframe thead th {\n",
       "        text-align: right;\n",
       "    }\n",
       "</style>\n",
       "<table border=\"1\" class=\"dataframe\">\n",
       "  <thead>\n",
       "    <tr style=\"text-align: right;\">\n",
       "      <th></th>\n",
       "      <th>claim_id</th>\n",
       "      <th>CUST_ID</th>\n",
       "      <th>incident_cause</th>\n",
       "      <th>claim_date</th>\n",
       "      <th>claim_area</th>\n",
       "      <th>police_report</th>\n",
       "      <th>claim_type</th>\n",
       "      <th>claim_amount</th>\n",
       "      <th>total_policy_claims</th>\n",
       "      <th>fraudulent</th>\n",
       "      <th>gender</th>\n",
       "      <th>DateOfBirth</th>\n",
       "      <th>State</th>\n",
       "      <th>Contact</th>\n",
       "      <th>Segment</th>\n",
       "    </tr>\n",
       "  </thead>\n",
       "  <tbody>\n",
       "    <tr>\n",
       "      <th>0</th>\n",
       "      <td>54004764</td>\n",
       "      <td>21868593</td>\n",
       "      <td>Driver error</td>\n",
       "      <td>11/27/2017</td>\n",
       "      <td>Auto</td>\n",
       "      <td>No</td>\n",
       "      <td>Material only</td>\n",
       "      <td>$2980</td>\n",
       "      <td>1.0</td>\n",
       "      <td>No</td>\n",
       "      <td>Female</td>\n",
       "      <td>12-Jan-79</td>\n",
       "      <td>VT</td>\n",
       "      <td>789-916-8172</td>\n",
       "      <td>Platinum</td>\n",
       "    </tr>\n",
       "    <tr>\n",
       "      <th>1</th>\n",
       "      <td>33985796</td>\n",
       "      <td>75740424</td>\n",
       "      <td>Crime</td>\n",
       "      <td>10/03/2018</td>\n",
       "      <td>Home</td>\n",
       "      <td>Unknown</td>\n",
       "      <td>Material only</td>\n",
       "      <td>$2980</td>\n",
       "      <td>3.0</td>\n",
       "      <td>No</td>\n",
       "      <td>Female</td>\n",
       "      <td>13-Jan-70</td>\n",
       "      <td>ME</td>\n",
       "      <td>265-543-1264</td>\n",
       "      <td>Silver</td>\n",
       "    </tr>\n",
       "    <tr>\n",
       "      <th>2</th>\n",
       "      <td>53522022</td>\n",
       "      <td>30308357</td>\n",
       "      <td>Other driver error</td>\n",
       "      <td>02/02/2018</td>\n",
       "      <td>Auto</td>\n",
       "      <td>No</td>\n",
       "      <td>Material only</td>\n",
       "      <td>$3369.5</td>\n",
       "      <td>1.0</td>\n",
       "      <td>Yes</td>\n",
       "      <td>Female</td>\n",
       "      <td>11-Mar-84</td>\n",
       "      <td>TN</td>\n",
       "      <td>798-631-4758</td>\n",
       "      <td>Silver</td>\n",
       "    </tr>\n",
       "    <tr>\n",
       "      <th>3</th>\n",
       "      <td>63017412</td>\n",
       "      <td>30308357</td>\n",
       "      <td>Driver error</td>\n",
       "      <td>04/04/2018</td>\n",
       "      <td>Auto</td>\n",
       "      <td>No</td>\n",
       "      <td>Material only</td>\n",
       "      <td>$1950</td>\n",
       "      <td>6.0</td>\n",
       "      <td>No</td>\n",
       "      <td>Female</td>\n",
       "      <td>11-Mar-84</td>\n",
       "      <td>TN</td>\n",
       "      <td>798-631-4758</td>\n",
       "      <td>Silver</td>\n",
       "    </tr>\n",
       "    <tr>\n",
       "      <th>4</th>\n",
       "      <td>13015401</td>\n",
       "      <td>47830476</td>\n",
       "      <td>Natural causes</td>\n",
       "      <td>06/17/2018</td>\n",
       "      <td>Auto</td>\n",
       "      <td>No</td>\n",
       "      <td>Material only</td>\n",
       "      <td>$1680</td>\n",
       "      <td>1.0</td>\n",
       "      <td>No</td>\n",
       "      <td>Female</td>\n",
       "      <td>01-May-86</td>\n",
       "      <td>MA</td>\n",
       "      <td>413-187-7945</td>\n",
       "      <td>Silver</td>\n",
       "    </tr>\n",
       "  </tbody>\n",
       "</table>\n",
       "</div>"
      ],
      "text/plain": [
       "   claim_id   CUST_ID      incident_cause  claim_date claim_area  \\\n",
       "0  54004764  21868593        Driver error  11/27/2017       Auto   \n",
       "1  33985796  75740424               Crime  10/03/2018       Home   \n",
       "2  53522022  30308357  Other driver error  02/02/2018       Auto   \n",
       "3  63017412  30308357        Driver error  04/04/2018       Auto   \n",
       "4  13015401  47830476      Natural causes  06/17/2018       Auto   \n",
       "\n",
       "  police_report     claim_type claim_amount  total_policy_claims fraudulent  \\\n",
       "0            No  Material only        $2980                  1.0         No   \n",
       "1       Unknown  Material only        $2980                  3.0         No   \n",
       "2            No  Material only      $3369.5                  1.0        Yes   \n",
       "3            No  Material only        $1950                  6.0         No   \n",
       "4            No  Material only        $1680                  1.0         No   \n",
       "\n",
       "   gender DateOfBirth State       Contact   Segment  \n",
       "0  Female   12-Jan-79    VT  789-916-8172  Platinum  \n",
       "1  Female   13-Jan-70    ME  265-543-1264    Silver  \n",
       "2  Female   11-Mar-84    TN  798-631-4758    Silver  \n",
       "3  Female   11-Mar-84    TN  798-631-4758    Silver  \n",
       "4  Female   01-May-86    MA  413-187-7945    Silver  "
      ]
     },
     "execution_count": 23,
     "metadata": {},
     "output_type": "execute_result"
    }
   ],
   "source": [
    "cul.head()"
   ]
  },
  {
   "cell_type": "markdown",
   "id": "5182c81f",
   "metadata": {},
   "source": [
    "# 3. Convert the column claim_amount to numeric. Use the appropriate modules/attributes to remove the $ sign\n"
   ]
  },
  {
   "cell_type": "code",
   "execution_count": 120,
   "id": "abf7c789",
   "metadata": {
    "scrolled": true
   },
   "outputs": [
    {
     "name": "stderr",
     "output_type": "stream",
     "text": [
      "C:\\Users\\Nishant kmr\\AppData\\Local\\Temp\\ipykernel_17376\\1278659700.py:1: FutureWarning: The default value of regex will change from True to False in a future version. In addition, single character regular expressions will *not* be treated as literal strings when regex=True.\n",
      "  cul['claim_amount']=cul['claim_amount'].str.replace(\"$\",\"\")\n"
     ]
    }
   ],
   "source": [
    "cul['claim_amount']=cul['claim_amount'].str.replace(\"$\",\"\")"
   ]
  },
  {
   "cell_type": "code",
   "execution_count": 28,
   "id": "eb2b9d8b",
   "metadata": {},
   "outputs": [],
   "source": [
    "def fi(x):\n",
    "    try:\n",
    "        return int(x)\n",
    "    except:\n",
    "        None"
   ]
  },
  {
   "cell_type": "code",
   "execution_count": 29,
   "id": "0347bffd",
   "metadata": {},
   "outputs": [],
   "source": [
    "cul['claim_amount']=cul['claim_amount'].apply(fi)"
   ]
  },
  {
   "cell_type": "markdown",
   "id": "4dce7d6f",
   "metadata": {},
   "source": [
    "# 2. Perform a data audit for the datatypes and find out if there are anymismatch within the current datatypes of the columns and their business significance.\n"
   ]
  },
  {
   "cell_type": "code",
   "execution_count": null,
   "id": "85c83aa0",
   "metadata": {},
   "outputs": [],
   "source": []
  },
  {
   "cell_type": "code",
   "execution_count": 123,
   "id": "22638888",
   "metadata": {},
   "outputs": [],
   "source": [
    "cul[\"Contact\"] = cul['Contact'].str.replace(\"-\",\"\")"
   ]
  },
  {
   "cell_type": "code",
   "execution_count": 124,
   "id": "bb12e954",
   "metadata": {},
   "outputs": [],
   "source": [
    "def ff(x):\n",
    "    try:\n",
    "        return float(x)\n",
    "    except:\n",
    "        None"
   ]
  },
  {
   "cell_type": "code",
   "execution_count": 125,
   "id": "2d8ad62a",
   "metadata": {},
   "outputs": [],
   "source": [
    "cul[\"Contact\"] = cul['Contact'].apply(ff)"
   ]
  },
  {
   "cell_type": "code",
   "execution_count": 304,
   "id": "3a78cdde",
   "metadata": {},
   "outputs": [
    {
     "name": "stdout",
     "output_type": "stream",
     "text": [
      "<class 'pandas.core.frame.DataFrame'>\n",
      "Int64Index: 1085 entries, 0 to 1084\n",
      "Data columns (total 19 columns):\n",
      " #   Column               Non-Null Count  Dtype         \n",
      "---  ------               --------------  -----         \n",
      " 0   claim_id             1085 non-null   int64         \n",
      " 1   CUST_ID              1085 non-null   int64         \n",
      " 2   incident_cause       1085 non-null   object        \n",
      " 3   claim_date           1085 non-null   datetime64[ns]\n",
      " 4   claim_area           1085 non-null   object        \n",
      " 5   claim_type           1085 non-null   object        \n",
      " 6   claim_amount         1085 non-null   int64         \n",
      " 7   total_policy_claims  1085 non-null   float64       \n",
      " 8   fraudulent           1085 non-null   object        \n",
      " 9   gender               1085 non-null   object        \n",
      " 10  DateOfBirth          1085 non-null   datetime64[ns]\n",
      " 11  State                1085 non-null   object        \n",
      " 12  Contact              1085 non-null   float64       \n",
      " 13  Segment              1085 non-null   object        \n",
      " 14  flag                 1085 non-null   float64       \n",
      " 15  age                  1085 non-null   float64       \n",
      " 16  age_group            1085 non-null   object        \n",
      " 17  month                1085 non-null   int64         \n",
      " 18  year                 1085 non-null   int64         \n",
      "dtypes: datetime64[ns](2), float64(4), int64(5), object(8)\n",
      "memory usage: 169.5+ KB\n"
     ]
    }
   ],
   "source": [
    "cul.info()"
   ]
  },
  {
   "cell_type": "code",
   "execution_count": 127,
   "id": "a1b10c5e",
   "metadata": {},
   "outputs": [
    {
     "data": {
      "text/html": [
       "<div>\n",
       "<style scoped>\n",
       "    .dataframe tbody tr th:only-of-type {\n",
       "        vertical-align: middle;\n",
       "    }\n",
       "\n",
       "    .dataframe tbody tr th {\n",
       "        vertical-align: top;\n",
       "    }\n",
       "\n",
       "    .dataframe thead th {\n",
       "        text-align: right;\n",
       "    }\n",
       "</style>\n",
       "<table border=\"1\" class=\"dataframe\">\n",
       "  <thead>\n",
       "    <tr style=\"text-align: right;\">\n",
       "      <th></th>\n",
       "      <th>claim_id</th>\n",
       "      <th>CUST_ID</th>\n",
       "      <th>incident_cause</th>\n",
       "      <th>claim_date</th>\n",
       "      <th>claim_area</th>\n",
       "      <th>police_report</th>\n",
       "      <th>claim_type</th>\n",
       "      <th>claim_amount</th>\n",
       "      <th>total_policy_claims</th>\n",
       "      <th>fraudulent</th>\n",
       "      <th>gender</th>\n",
       "      <th>DateOfBirth</th>\n",
       "      <th>State</th>\n",
       "      <th>Contact</th>\n",
       "      <th>Segment</th>\n",
       "    </tr>\n",
       "  </thead>\n",
       "  <tbody>\n",
       "    <tr>\n",
       "      <th>0</th>\n",
       "      <td>54004764</td>\n",
       "      <td>21868593</td>\n",
       "      <td>Driver error</td>\n",
       "      <td>11/27/2017</td>\n",
       "      <td>Auto</td>\n",
       "      <td>No</td>\n",
       "      <td>Material only</td>\n",
       "      <td>2980.0</td>\n",
       "      <td>1.0</td>\n",
       "      <td>No</td>\n",
       "      <td>Female</td>\n",
       "      <td>12-Jan-79</td>\n",
       "      <td>VT</td>\n",
       "      <td>7.899168e+09</td>\n",
       "      <td>Platinum</td>\n",
       "    </tr>\n",
       "    <tr>\n",
       "      <th>1</th>\n",
       "      <td>33985796</td>\n",
       "      <td>75740424</td>\n",
       "      <td>Crime</td>\n",
       "      <td>10/03/2018</td>\n",
       "      <td>Home</td>\n",
       "      <td>Unknown</td>\n",
       "      <td>Material only</td>\n",
       "      <td>2980.0</td>\n",
       "      <td>3.0</td>\n",
       "      <td>No</td>\n",
       "      <td>Female</td>\n",
       "      <td>13-Jan-70</td>\n",
       "      <td>ME</td>\n",
       "      <td>2.655431e+09</td>\n",
       "      <td>Silver</td>\n",
       "    </tr>\n",
       "  </tbody>\n",
       "</table>\n",
       "</div>"
      ],
      "text/plain": [
       "   claim_id   CUST_ID incident_cause  claim_date claim_area police_report  \\\n",
       "0  54004764  21868593   Driver error  11/27/2017       Auto            No   \n",
       "1  33985796  75740424          Crime  10/03/2018       Home       Unknown   \n",
       "\n",
       "      claim_type  claim_amount  total_policy_claims fraudulent  gender  \\\n",
       "0  Material only        2980.0                  1.0         No  Female   \n",
       "1  Material only        2980.0                  3.0         No  Female   \n",
       "\n",
       "  DateOfBirth State       Contact   Segment  \n",
       "0   12-Jan-79    VT  7.899168e+09  Platinum  \n",
       "1   13-Jan-70    ME  2.655431e+09    Silver  "
      ]
     },
     "execution_count": 127,
     "metadata": {},
     "output_type": "execute_result"
    }
   ],
   "source": [
    "cul.head(2)"
   ]
  },
  {
   "cell_type": "code",
   "execution_count": 128,
   "id": "a4b88d8f",
   "metadata": {},
   "outputs": [],
   "source": [
    "cul['DateOfBirth']=pd.to_datetime(cul.DateOfBirth, format = \"%d-%b-%y\")"
   ]
  },
  {
   "cell_type": "code",
   "execution_count": 129,
   "id": "5180a9a9",
   "metadata": {},
   "outputs": [],
   "source": [
    "cul['claim_date']=pd.to_datetime(cul.claim_date, format = \"%m/%d/%Y\")\n"
   ]
  },
  {
   "cell_type": "code",
   "execution_count": 26,
   "id": "e180be23",
   "metadata": {},
   "outputs": [
    {
     "name": "stdout",
     "output_type": "stream",
     "text": [
      "<class 'pandas.core.frame.DataFrame'>\n",
      "Int64Index: 1085 entries, 0 to 1084\n",
      "Data columns (total 15 columns):\n",
      " #   Column               Non-Null Count  Dtype  \n",
      "---  ------               --------------  -----  \n",
      " 0   claim_id             1085 non-null   int64  \n",
      " 1   CUST_ID              1085 non-null   int64  \n",
      " 2   incident_cause       1085 non-null   object \n",
      " 3   claim_date           1085 non-null   object \n",
      " 4   claim_area           1085 non-null   object \n",
      " 5   police_report        1085 non-null   object \n",
      " 6   claim_type           1085 non-null   object \n",
      " 7   claim_amount         1020 non-null   object \n",
      " 8   total_policy_claims  1075 non-null   float64\n",
      " 9   fraudulent           1085 non-null   object \n",
      " 10  gender               1085 non-null   object \n",
      " 11  DateOfBirth          1085 non-null   object \n",
      " 12  State                1085 non-null   object \n",
      " 13  Contact              1085 non-null   object \n",
      " 14  Segment              1085 non-null   object \n",
      "dtypes: float64(1), int64(2), object(12)\n",
      "memory usage: 135.6+ KB\n"
     ]
    }
   ],
   "source": [
    "cul.info()"
   ]
  },
  {
   "cell_type": "markdown",
   "id": "05de5b82",
   "metadata": {},
   "source": [
    "# 4. Of all the injury claims, some of them have gone unreported with the police. Create an alert flag (1,0) for all such claims\n"
   ]
  },
  {
   "cell_type": "code",
   "execution_count": 131,
   "id": "a366982b",
   "metadata": {},
   "outputs": [],
   "source": [
    "def ab(x):\n",
    "    if x=='Yes':\n",
    "        return 1\n",
    "    elif x=='No':\n",
    "        return 0\n",
    "    else:\n",
    "        return np.nan"
   ]
  },
  {
   "cell_type": "code",
   "execution_count": 132,
   "id": "eb4dce50",
   "metadata": {},
   "outputs": [],
   "source": [
    "cul['flag']=cul['police_report'].apply(ab)"
   ]
  },
  {
   "cell_type": "code",
   "execution_count": 133,
   "id": "20c90297",
   "metadata": {},
   "outputs": [],
   "source": [
    "cul.drop(columns=['police_report'],inplace=True)"
   ]
  },
  {
   "cell_type": "markdown",
   "id": "21028696",
   "metadata": {},
   "source": [
    "# 5. One customer can claim for insurance more than once and in each claim, multiple categories of claims can be involved. However, customer ID should remain unique.\n"
   ]
  },
  {
   "cell_type": "code",
   "execution_count": 134,
   "id": "e9538387",
   "metadata": {},
   "outputs": [
    {
     "data": {
      "text/html": [
       "<div>\n",
       "<style scoped>\n",
       "    .dataframe tbody tr th:only-of-type {\n",
       "        vertical-align: middle;\n",
       "    }\n",
       "\n",
       "    .dataframe tbody tr th {\n",
       "        vertical-align: top;\n",
       "    }\n",
       "\n",
       "    .dataframe thead th {\n",
       "        text-align: right;\n",
       "    }\n",
       "</style>\n",
       "<table border=\"1\" class=\"dataframe\">\n",
       "  <thead>\n",
       "    <tr style=\"text-align: right;\">\n",
       "      <th></th>\n",
       "      <th>claim_id</th>\n",
       "      <th>incident_cause</th>\n",
       "      <th>claim_date</th>\n",
       "      <th>claim_area</th>\n",
       "      <th>claim_type</th>\n",
       "      <th>claim_amount</th>\n",
       "      <th>total_policy_claims</th>\n",
       "      <th>fraudulent</th>\n",
       "      <th>gender</th>\n",
       "      <th>DateOfBirth</th>\n",
       "      <th>State</th>\n",
       "      <th>Contact</th>\n",
       "      <th>Segment</th>\n",
       "      <th>flag</th>\n",
       "    </tr>\n",
       "  </thead>\n",
       "  <tbody>\n",
       "    <tr>\n",
       "      <th>0</th>\n",
       "      <td>69348631</td>\n",
       "      <td>Driver error</td>\n",
       "      <td>2018-04-10</td>\n",
       "      <td>Auto</td>\n",
       "      <td>Injury only</td>\n",
       "      <td>NaN</td>\n",
       "      <td>1.0</td>\n",
       "      <td>Yes</td>\n",
       "      <td>Female</td>\n",
       "      <td>1978-05-23</td>\n",
       "      <td>DE</td>\n",
       "      <td>9.628791e+09</td>\n",
       "      <td>Platinum</td>\n",
       "      <td>0.0</td>\n",
       "    </tr>\n",
       "    <tr>\n",
       "      <th>1</th>\n",
       "      <td>40953049</td>\n",
       "      <td>Other causes</td>\n",
       "      <td>2018-04-04</td>\n",
       "      <td>Auto</td>\n",
       "      <td>Material and injury</td>\n",
       "      <td>39192.0</td>\n",
       "      <td>1.0</td>\n",
       "      <td>Yes</td>\n",
       "      <td>Male</td>\n",
       "      <td>1972-12-20</td>\n",
       "      <td>TX</td>\n",
       "      <td>1.738926e+09</td>\n",
       "      <td>Silver</td>\n",
       "      <td>0.0</td>\n",
       "    </tr>\n",
       "    <tr>\n",
       "      <th>2</th>\n",
       "      <td>45780237</td>\n",
       "      <td>Natural causes</td>\n",
       "      <td>2017-10-17</td>\n",
       "      <td>Auto</td>\n",
       "      <td>Material only</td>\n",
       "      <td>1621.5</td>\n",
       "      <td>2.0</td>\n",
       "      <td>Yes</td>\n",
       "      <td>Male</td>\n",
       "      <td>1988-07-28</td>\n",
       "      <td>FL</td>\n",
       "      <td>3.645982e+09</td>\n",
       "      <td>Silver</td>\n",
       "      <td>NaN</td>\n",
       "    </tr>\n",
       "    <tr>\n",
       "      <th>3</th>\n",
       "      <td>89833962</td>\n",
       "      <td>Other causes</td>\n",
       "      <td>2018-03-21</td>\n",
       "      <td>Auto</td>\n",
       "      <td>Material and injury</td>\n",
       "      <td>37040.0</td>\n",
       "      <td>1.0</td>\n",
       "      <td>No</td>\n",
       "      <td>Male</td>\n",
       "      <td>1971-08-19</td>\n",
       "      <td>CA</td>\n",
       "      <td>1.873488e+09</td>\n",
       "      <td>Gold</td>\n",
       "      <td>1.0</td>\n",
       "    </tr>\n",
       "    <tr>\n",
       "      <th>4</th>\n",
       "      <td>35782742</td>\n",
       "      <td>Other driver error</td>\n",
       "      <td>2018-07-27</td>\n",
       "      <td>Auto</td>\n",
       "      <td>Injury only</td>\n",
       "      <td>35250.0</td>\n",
       "      <td>3.0</td>\n",
       "      <td>No</td>\n",
       "      <td>Female</td>\n",
       "      <td>1980-08-10</td>\n",
       "      <td>NC</td>\n",
       "      <td>7.988625e+09</td>\n",
       "      <td>Gold</td>\n",
       "      <td>0.0</td>\n",
       "    </tr>\n",
       "    <tr>\n",
       "      <th>...</th>\n",
       "      <td>...</td>\n",
       "      <td>...</td>\n",
       "      <td>...</td>\n",
       "      <td>...</td>\n",
       "      <td>...</td>\n",
       "      <td>...</td>\n",
       "      <td>...</td>\n",
       "      <td>...</td>\n",
       "      <td>...</td>\n",
       "      <td>...</td>\n",
       "      <td>...</td>\n",
       "      <td>...</td>\n",
       "      <td>...</td>\n",
       "      <td>...</td>\n",
       "    </tr>\n",
       "    <tr>\n",
       "      <th>1073</th>\n",
       "      <td>4549014</td>\n",
       "      <td>Other causes</td>\n",
       "      <td>2018-07-07</td>\n",
       "      <td>Auto</td>\n",
       "      <td>Injury only</td>\n",
       "      <td>21480.0</td>\n",
       "      <td>1.0</td>\n",
       "      <td>No</td>\n",
       "      <td>Male</td>\n",
       "      <td>2065-01-28</td>\n",
       "      <td>UT</td>\n",
       "      <td>5.175625e+09</td>\n",
       "      <td>Silver</td>\n",
       "      <td>0.0</td>\n",
       "    </tr>\n",
       "    <tr>\n",
       "      <th>1074</th>\n",
       "      <td>35453672</td>\n",
       "      <td>Natural causes</td>\n",
       "      <td>2018-01-06</td>\n",
       "      <td>Auto</td>\n",
       "      <td>Material and injury</td>\n",
       "      <td>14360.0</td>\n",
       "      <td>1.0</td>\n",
       "      <td>No</td>\n",
       "      <td>Female</td>\n",
       "      <td>2066-06-19</td>\n",
       "      <td>HI</td>\n",
       "      <td>4.577521e+09</td>\n",
       "      <td>Gold</td>\n",
       "      <td>1.0</td>\n",
       "    </tr>\n",
       "    <tr>\n",
       "      <th>1075</th>\n",
       "      <td>37305754</td>\n",
       "      <td>Natural causes</td>\n",
       "      <td>2018-04-04</td>\n",
       "      <td>Auto</td>\n",
       "      <td>Material only</td>\n",
       "      <td>1242.0</td>\n",
       "      <td>1.0</td>\n",
       "      <td>Yes</td>\n",
       "      <td>Female</td>\n",
       "      <td>2063-11-18</td>\n",
       "      <td>NC</td>\n",
       "      <td>6.432465e+09</td>\n",
       "      <td>Silver</td>\n",
       "      <td>0.0</td>\n",
       "    </tr>\n",
       "    <tr>\n",
       "      <th>1076</th>\n",
       "      <td>22960702</td>\n",
       "      <td>Driver error</td>\n",
       "      <td>2017-11-13</td>\n",
       "      <td>Auto</td>\n",
       "      <td>Material only</td>\n",
       "      <td>2415.0</td>\n",
       "      <td>2.0</td>\n",
       "      <td>Yes</td>\n",
       "      <td>Male</td>\n",
       "      <td>1995-06-08</td>\n",
       "      <td>OR</td>\n",
       "      <td>3.952466e+09</td>\n",
       "      <td>Gold</td>\n",
       "      <td>0.0</td>\n",
       "    </tr>\n",
       "    <tr>\n",
       "      <th>1077</th>\n",
       "      <td>47262068</td>\n",
       "      <td>Driver error</td>\n",
       "      <td>2018-10-23</td>\n",
       "      <td>Home</td>\n",
       "      <td>Material only</td>\n",
       "      <td>2310.0</td>\n",
       "      <td>1.0</td>\n",
       "      <td>No</td>\n",
       "      <td>Male</td>\n",
       "      <td>1995-06-10</td>\n",
       "      <td>AL</td>\n",
       "      <td>2.349433e+09</td>\n",
       "      <td>Platinum</td>\n",
       "      <td>0.0</td>\n",
       "    </tr>\n",
       "  </tbody>\n",
       "</table>\n",
       "<p>1078 rows × 14 columns</p>\n",
       "</div>"
      ],
      "text/plain": [
       "      claim_id      incident_cause claim_date claim_area           claim_type  \\\n",
       "0     69348631        Driver error 2018-04-10       Auto          Injury only   \n",
       "1     40953049        Other causes 2018-04-04       Auto  Material and injury   \n",
       "2     45780237      Natural causes 2017-10-17       Auto        Material only   \n",
       "3     89833962        Other causes 2018-03-21       Auto  Material and injury   \n",
       "4     35782742  Other driver error 2018-07-27       Auto          Injury only   \n",
       "...        ...                 ...        ...        ...                  ...   \n",
       "1073   4549014        Other causes 2018-07-07       Auto          Injury only   \n",
       "1074  35453672      Natural causes 2018-01-06       Auto  Material and injury   \n",
       "1075  37305754      Natural causes 2018-04-04       Auto        Material only   \n",
       "1076  22960702        Driver error 2017-11-13       Auto        Material only   \n",
       "1077  47262068        Driver error 2018-10-23       Home        Material only   \n",
       "\n",
       "      claim_amount  total_policy_claims fraudulent  gender DateOfBirth State  \\\n",
       "0              NaN                  1.0        Yes  Female  1978-05-23    DE   \n",
       "1          39192.0                  1.0        Yes    Male  1972-12-20    TX   \n",
       "2           1621.5                  2.0        Yes    Male  1988-07-28    FL   \n",
       "3          37040.0                  1.0         No    Male  1971-08-19    CA   \n",
       "4          35250.0                  3.0         No  Female  1980-08-10    NC   \n",
       "...            ...                  ...        ...     ...         ...   ...   \n",
       "1073       21480.0                  1.0         No    Male  2065-01-28    UT   \n",
       "1074       14360.0                  1.0         No  Female  2066-06-19    HI   \n",
       "1075        1242.0                  1.0        Yes  Female  2063-11-18    NC   \n",
       "1076        2415.0                  2.0        Yes    Male  1995-06-08    OR   \n",
       "1077        2310.0                  1.0         No    Male  1995-06-10    AL   \n",
       "\n",
       "           Contact   Segment  flag  \n",
       "0     9.628791e+09  Platinum   0.0  \n",
       "1     1.738926e+09    Silver   0.0  \n",
       "2     3.645982e+09    Silver   NaN  \n",
       "3     1.873488e+09      Gold   1.0  \n",
       "4     7.988625e+09      Gold   0.0  \n",
       "...            ...       ...   ...  \n",
       "1073  5.175625e+09    Silver   0.0  \n",
       "1074  4.577521e+09      Gold   1.0  \n",
       "1075  6.432465e+09    Silver   0.0  \n",
       "1076  3.952466e+09      Gold   0.0  \n",
       "1077  2.349433e+09  Platinum   0.0  \n",
       "\n",
       "[1078 rows x 14 columns]"
      ]
     },
     "execution_count": 134,
     "metadata": {},
     "output_type": "execute_result"
    }
   ],
   "source": [
    "cul.groupby('CUST_ID').first().reset_index(drop=True)"
   ]
  },
  {
   "cell_type": "markdown",
   "id": "1dfe27c8",
   "metadata": {},
   "source": [
    "# 6. Check for missing values and impute the missing values with an appropriate value. (mean for continuous and mode for categorical)\n"
   ]
  },
  {
   "cell_type": "code",
   "execution_count": 136,
   "id": "704e077a",
   "metadata": {},
   "outputs": [
    {
     "data": {
      "text/plain": [
       "65"
      ]
     },
     "execution_count": 136,
     "metadata": {},
     "output_type": "execute_result"
    }
   ],
   "source": [
    "cul['claim_amount'].isna().sum()"
   ]
  },
  {
   "cell_type": "code",
   "execution_count": 137,
   "id": "96c9832d",
   "metadata": {},
   "outputs": [],
   "source": [
    "cul['flag']=cul['flag'].fillna(cul['flag'].mode()[0])"
   ]
  },
  {
   "cell_type": "code",
   "execution_count": 138,
   "id": "90107bda",
   "metadata": {},
   "outputs": [],
   "source": [
    "cul['claim_amount'] = cul['claim_amount'].fillna(cul['claim_amount'].mean())"
   ]
  },
  {
   "cell_type": "code",
   "execution_count": 139,
   "id": "6a9fdedb",
   "metadata": {},
   "outputs": [],
   "source": [
    "cul['total_policy_claims'] = cul['total_policy_claims'].fillna(cul['total_policy_claims'].mean())"
   ]
  },
  {
   "cell_type": "code",
   "execution_count": 477,
   "id": "d330b89c",
   "metadata": {},
   "outputs": [
    {
     "data": {
      "text/html": [
       "<div>\n",
       "<style scoped>\n",
       "    .dataframe tbody tr th:only-of-type {\n",
       "        vertical-align: middle;\n",
       "    }\n",
       "\n",
       "    .dataframe tbody tr th {\n",
       "        vertical-align: top;\n",
       "    }\n",
       "\n",
       "    .dataframe thead th {\n",
       "        text-align: right;\n",
       "    }\n",
       "</style>\n",
       "<table border=\"1\" class=\"dataframe\">\n",
       "  <thead>\n",
       "    <tr style=\"text-align: right;\">\n",
       "      <th></th>\n",
       "      <th>claim_id</th>\n",
       "      <th>CUST_ID</th>\n",
       "      <th>incident_cause</th>\n",
       "      <th>claim_date</th>\n",
       "      <th>claim_area</th>\n",
       "      <th>claim_type</th>\n",
       "      <th>claim_amount</th>\n",
       "      <th>total_policy_claims</th>\n",
       "      <th>fraudulent</th>\n",
       "      <th>gender</th>\n",
       "      <th>DateOfBirth</th>\n",
       "      <th>State</th>\n",
       "      <th>Contact</th>\n",
       "      <th>Segment</th>\n",
       "      <th>flag</th>\n",
       "      <th>age</th>\n",
       "      <th>age_group</th>\n",
       "      <th>month</th>\n",
       "      <th>year</th>\n",
       "      <th>Frauds</th>\n",
       "    </tr>\n",
       "  </thead>\n",
       "  <tbody>\n",
       "    <tr>\n",
       "      <th>0</th>\n",
       "      <td>54004764</td>\n",
       "      <td>21868593</td>\n",
       "      <td>driver error</td>\n",
       "      <td>2017-11-27</td>\n",
       "      <td>Auto</td>\n",
       "      <td>Material only</td>\n",
       "      <td>2980</td>\n",
       "      <td>1.0</td>\n",
       "      <td>No</td>\n",
       "      <td>Female</td>\n",
       "      <td>1979-01-12</td>\n",
       "      <td>VT</td>\n",
       "      <td>7.899168e+09</td>\n",
       "      <td>Platinum</td>\n",
       "      <td>0.0</td>\n",
       "      <td>39.0</td>\n",
       "      <td>Adult</td>\n",
       "      <td>11</td>\n",
       "      <td>2017</td>\n",
       "      <td>0</td>\n",
       "    </tr>\n",
       "    <tr>\n",
       "      <th>1</th>\n",
       "      <td>33985796</td>\n",
       "      <td>75740424</td>\n",
       "      <td>crime</td>\n",
       "      <td>2018-10-03</td>\n",
       "      <td>Home</td>\n",
       "      <td>Material only</td>\n",
       "      <td>2980</td>\n",
       "      <td>3.0</td>\n",
       "      <td>No</td>\n",
       "      <td>Female</td>\n",
       "      <td>1970-01-13</td>\n",
       "      <td>ME</td>\n",
       "      <td>2.655431e+09</td>\n",
       "      <td>Silver</td>\n",
       "      <td>0.0</td>\n",
       "      <td>49.0</td>\n",
       "      <td>Adult</td>\n",
       "      <td>10</td>\n",
       "      <td>2018</td>\n",
       "      <td>0</td>\n",
       "    </tr>\n",
       "  </tbody>\n",
       "</table>\n",
       "</div>"
      ],
      "text/plain": [
       "   claim_id   CUST_ID incident_cause claim_date claim_area     claim_type  \\\n",
       "0  54004764  21868593   driver error 2017-11-27       Auto  Material only   \n",
       "1  33985796  75740424          crime 2018-10-03       Home  Material only   \n",
       "\n",
       "   claim_amount  total_policy_claims fraudulent  gender DateOfBirth State  \\\n",
       "0          2980                  1.0         No  Female  1979-01-12    VT   \n",
       "1          2980                  3.0         No  Female  1970-01-13    ME   \n",
       "\n",
       "        Contact   Segment  flag   age age_group  month  year  Frauds  \n",
       "0  7.899168e+09  Platinum   0.0  39.0     Adult     11  2017       0  \n",
       "1  2.655431e+09    Silver   0.0  49.0     Adult     10  2018       0  "
      ]
     },
     "execution_count": 477,
     "metadata": {},
     "output_type": "execute_result"
    }
   ],
   "source": [
    "cul.head(2)"
   ]
  },
  {
   "cell_type": "code",
   "execution_count": 141,
   "id": "9e8dc6f0",
   "metadata": {},
   "outputs": [
    {
     "data": {
      "text/plain": [
       "claim_id               0\n",
       "CUST_ID                0\n",
       "incident_cause         0\n",
       "claim_date             0\n",
       "claim_area             0\n",
       "claim_type             0\n",
       "claim_amount           0\n",
       "total_policy_claims    0\n",
       "fraudulent             0\n",
       "gender                 0\n",
       "DateOfBirth            0\n",
       "State                  0\n",
       "Contact                0\n",
       "Segment                0\n",
       "flag                   0\n",
       "dtype: int64"
      ]
     },
     "execution_count": 141,
     "metadata": {},
     "output_type": "execute_result"
    }
   ],
   "source": [
    "cul.isnull().sum()"
   ]
  },
  {
   "cell_type": "markdown",
   "id": "cca6bc12",
   "metadata": {},
   "source": [
    "# 7. Calculate the age of customers in years. Based on the age, categorize the\n",
    "customers according to the below criteria\n",
    "\n",
    "Children < 18\n",
    "\n",
    "Youth 18-30\n",
    "\n",
    "Adult 30-60\n",
    "\n",
    "Senior > 60\n"
   ]
  },
  {
   "cell_type": "code",
   "execution_count": 307,
   "id": "238efe26",
   "metadata": {},
   "outputs": [],
   "source": [
    "cul.loc[(cul.DateOfBirth.dt.year > 2020),\"DateOfBirth\"]=cul[cul.DateOfBirth.dt.year > 2020][\"DateOfBirth\"].apply(lambda x: x - pd.DateOffset(years=100))"
   ]
  },
  {
   "cell_type": "code",
   "execution_count": 308,
   "id": "9a93429c",
   "metadata": {},
   "outputs": [],
   "source": [
    "cul['age']=round((cul.claim_date - cul.DateOfBirth)/np.timedelta64(1, 'Y'))"
   ]
  },
  {
   "cell_type": "code",
   "execution_count": null,
   "id": "9ddbb4bb",
   "metadata": {},
   "outputs": [],
   "source": []
  },
  {
   "cell_type": "code",
   "execution_count": 309,
   "id": "fdf7a52b",
   "metadata": {},
   "outputs": [],
   "source": [
    "cul['age_group'] = np.where(cul.age <18,'Childen',np.where(cul.age<30,'Youth',np.where(cul.age<60,'Adult',np.where(cul.age>60,'Senior',np.NaN))))"
   ]
  },
  {
   "cell_type": "code",
   "execution_count": null,
   "id": "6eb0c515",
   "metadata": {},
   "outputs": [],
   "source": []
  },
  {
   "cell_type": "markdown",
   "id": "e0571a70",
   "metadata": {},
   "source": [
    "# 8. What is the average amount claimed by the customers from various Segments?\n"
   ]
  },
  {
   "cell_type": "code",
   "execution_count": 310,
   "id": "660d4d57",
   "metadata": {},
   "outputs": [
    {
     "data": {
      "text/html": [
       "<div>\n",
       "<style scoped>\n",
       "    .dataframe tbody tr th:only-of-type {\n",
       "        vertical-align: middle;\n",
       "    }\n",
       "\n",
       "    .dataframe tbody tr th {\n",
       "        vertical-align: top;\n",
       "    }\n",
       "\n",
       "    .dataframe thead tr th {\n",
       "        text-align: left;\n",
       "    }\n",
       "\n",
       "    .dataframe thead tr:last-of-type th {\n",
       "        text-align: right;\n",
       "    }\n",
       "</style>\n",
       "<table border=\"1\" class=\"dataframe\">\n",
       "  <thead>\n",
       "    <tr>\n",
       "      <th></th>\n",
       "      <th>claim_amount</th>\n",
       "    </tr>\n",
       "    <tr>\n",
       "      <th></th>\n",
       "      <th>mean</th>\n",
       "    </tr>\n",
       "    <tr>\n",
       "      <th>Segment</th>\n",
       "      <th></th>\n",
       "    </tr>\n",
       "  </thead>\n",
       "  <tbody>\n",
       "    <tr>\n",
       "      <th>Gold</th>\n",
       "      <td>12829.544000</td>\n",
       "    </tr>\n",
       "    <tr>\n",
       "      <th>Platinum</th>\n",
       "      <td>12341.867403</td>\n",
       "    </tr>\n",
       "    <tr>\n",
       "      <th>Silver</th>\n",
       "      <td>12208.341954</td>\n",
       "    </tr>\n",
       "  </tbody>\n",
       "</table>\n",
       "</div>"
      ],
      "text/plain": [
       "          claim_amount\n",
       "                  mean\n",
       "Segment               \n",
       "Gold      12829.544000\n",
       "Platinum  12341.867403\n",
       "Silver    12208.341954"
      ]
     },
     "execution_count": 310,
     "metadata": {},
     "output_type": "execute_result"
    }
   ],
   "source": [
    "cul[['claim_amount','Segment']].groupby('Segment').agg({'claim_amount':['mean']})"
   ]
  },
  {
   "cell_type": "markdown",
   "id": "435fd932",
   "metadata": {},
   "source": [
    "# 9. What is the total claim amount based on incident cause for all the claims that have been done at least 20 days prior to 1st of October, 2018.\n"
   ]
  },
  {
   "cell_type": "code",
   "execution_count": 467,
   "id": "f8051286",
   "metadata": {},
   "outputs": [
    {
     "data": {
      "text/plain": [
       "13527338"
      ]
     },
     "execution_count": 467,
     "metadata": {},
     "output_type": "execute_result"
    }
   ],
   "source": [
    "cul['claim_amount'].sum()"
   ]
  },
  {
   "cell_type": "code",
   "execution_count": 469,
   "id": "e4fa5f06",
   "metadata": {},
   "outputs": [
    {
     "data": {
      "text/html": [
       "<div>\n",
       "<style scoped>\n",
       "    .dataframe tbody tr th:only-of-type {\n",
       "        vertical-align: middle;\n",
       "    }\n",
       "\n",
       "    .dataframe tbody tr th {\n",
       "        vertical-align: top;\n",
       "    }\n",
       "\n",
       "    .dataframe thead tr th {\n",
       "        text-align: left;\n",
       "    }\n",
       "\n",
       "    .dataframe thead tr:last-of-type th {\n",
       "        text-align: right;\n",
       "    }\n",
       "</style>\n",
       "<table border=\"1\" class=\"dataframe\">\n",
       "  <thead>\n",
       "    <tr>\n",
       "      <th></th>\n",
       "      <th>claim_amount</th>\n",
       "    </tr>\n",
       "    <tr>\n",
       "      <th></th>\n",
       "      <th>sum</th>\n",
       "    </tr>\n",
       "    <tr>\n",
       "      <th>incident_cause</th>\n",
       "      <th></th>\n",
       "    </tr>\n",
       "  </thead>\n",
       "  <tbody>\n",
       "    <tr>\n",
       "      <th>crime</th>\n",
       "      <td>724438</td>\n",
       "    </tr>\n",
       "    <tr>\n",
       "      <th>driver error</th>\n",
       "      <td>3319932</td>\n",
       "    </tr>\n",
       "    <tr>\n",
       "      <th>natural causes</th>\n",
       "      <td>1314108</td>\n",
       "    </tr>\n",
       "    <tr>\n",
       "      <th>other causes</th>\n",
       "      <td>3724962</td>\n",
       "    </tr>\n",
       "    <tr>\n",
       "      <th>other driver error</th>\n",
       "      <td>3318748</td>\n",
       "    </tr>\n",
       "  </tbody>\n",
       "</table>\n",
       "</div>"
      ],
      "text/plain": [
       "                   claim_amount\n",
       "                            sum\n",
       "incident_cause                 \n",
       "crime                    724438\n",
       "driver error            3319932\n",
       "natural causes          1314108\n",
       "other causes            3724962\n",
       "other driver error      3318748"
      ]
     },
     "execution_count": 469,
     "metadata": {},
     "output_type": "execute_result"
    }
   ],
   "source": [
    "cul[cul.claim_date < \"2018-09-10\"].groupby(\"incident_cause\").agg({'claim_amount':['sum']})"
   ]
  },
  {
   "cell_type": "markdown",
   "id": "af1fc20d",
   "metadata": {},
   "source": [
    "# 10. How many adults from TX, DE and AK claimed insurance for driver related issues and causes?\n"
   ]
  },
  {
   "cell_type": "code",
   "execution_count": 312,
   "id": "c311bc38",
   "metadata": {},
   "outputs": [],
   "source": [
    "cul['incident_cause']=cul['incident_cause'].str.lower()"
   ]
  },
  {
   "cell_type": "code",
   "execution_count": 313,
   "id": "dee53aab",
   "metadata": {},
   "outputs": [
    {
     "data": {
      "text/html": [
       "<div>\n",
       "<style scoped>\n",
       "    .dataframe tbody tr th:only-of-type {\n",
       "        vertical-align: middle;\n",
       "    }\n",
       "\n",
       "    .dataframe tbody tr th {\n",
       "        vertical-align: top;\n",
       "    }\n",
       "\n",
       "    .dataframe thead th {\n",
       "        text-align: right;\n",
       "    }\n",
       "</style>\n",
       "<table border=\"1\" class=\"dataframe\">\n",
       "  <thead>\n",
       "    <tr style=\"text-align: right;\">\n",
       "      <th></th>\n",
       "      <th>claim_id</th>\n",
       "      <th>CUST_ID</th>\n",
       "      <th>incident_cause</th>\n",
       "      <th>claim_date</th>\n",
       "      <th>claim_area</th>\n",
       "      <th>claim_type</th>\n",
       "      <th>claim_amount</th>\n",
       "      <th>total_policy_claims</th>\n",
       "      <th>fraudulent</th>\n",
       "      <th>gender</th>\n",
       "      <th>DateOfBirth</th>\n",
       "      <th>State</th>\n",
       "      <th>Contact</th>\n",
       "      <th>Segment</th>\n",
       "      <th>flag</th>\n",
       "      <th>age</th>\n",
       "      <th>age_group</th>\n",
       "      <th>month</th>\n",
       "      <th>year</th>\n",
       "    </tr>\n",
       "  </thead>\n",
       "  <tbody>\n",
       "    <tr>\n",
       "      <th>0</th>\n",
       "      <td>54004764</td>\n",
       "      <td>21868593</td>\n",
       "      <td>driver error</td>\n",
       "      <td>2017-11-27</td>\n",
       "      <td>Auto</td>\n",
       "      <td>Material only</td>\n",
       "      <td>2980</td>\n",
       "      <td>1.0</td>\n",
       "      <td>No</td>\n",
       "      <td>Female</td>\n",
       "      <td>1979-01-12</td>\n",
       "      <td>VT</td>\n",
       "      <td>7.899168e+09</td>\n",
       "      <td>Platinum</td>\n",
       "      <td>0.0</td>\n",
       "      <td>39.0</td>\n",
       "      <td>Adult</td>\n",
       "      <td>11</td>\n",
       "      <td>2017</td>\n",
       "    </tr>\n",
       "    <tr>\n",
       "      <th>1</th>\n",
       "      <td>33985796</td>\n",
       "      <td>75740424</td>\n",
       "      <td>crime</td>\n",
       "      <td>2018-10-03</td>\n",
       "      <td>Home</td>\n",
       "      <td>Material only</td>\n",
       "      <td>2980</td>\n",
       "      <td>3.0</td>\n",
       "      <td>No</td>\n",
       "      <td>Female</td>\n",
       "      <td>1970-01-13</td>\n",
       "      <td>ME</td>\n",
       "      <td>2.655431e+09</td>\n",
       "      <td>Silver</td>\n",
       "      <td>0.0</td>\n",
       "      <td>49.0</td>\n",
       "      <td>Adult</td>\n",
       "      <td>10</td>\n",
       "      <td>2018</td>\n",
       "    </tr>\n",
       "  </tbody>\n",
       "</table>\n",
       "</div>"
      ],
      "text/plain": [
       "   claim_id   CUST_ID incident_cause claim_date claim_area     claim_type  \\\n",
       "0  54004764  21868593   driver error 2017-11-27       Auto  Material only   \n",
       "1  33985796  75740424          crime 2018-10-03       Home  Material only   \n",
       "\n",
       "   claim_amount  total_policy_claims fraudulent  gender DateOfBirth State  \\\n",
       "0          2980                  1.0         No  Female  1979-01-12    VT   \n",
       "1          2980                  3.0         No  Female  1970-01-13    ME   \n",
       "\n",
       "        Contact   Segment  flag   age age_group  month  year  \n",
       "0  7.899168e+09  Platinum   0.0  39.0     Adult     11  2017  \n",
       "1  2.655431e+09    Silver   0.0  49.0     Adult     10  2018  "
      ]
     },
     "execution_count": 313,
     "metadata": {},
     "output_type": "execute_result"
    }
   ],
   "source": [
    "cul.head(2)"
   ]
  },
  {
   "cell_type": "code",
   "execution_count": 314,
   "id": "d1238208",
   "metadata": {},
   "outputs": [],
   "source": [
    "def acc(x):\n",
    "    if 'driver' in x:\n",
    "        return x\n",
    "    else:\n",
    "        return None"
   ]
  },
  {
   "cell_type": "code",
   "execution_count": 315,
   "id": "91d8b4ba",
   "metadata": {},
   "outputs": [],
   "source": [
    "a=cul['incident_cause'].str.contains('driver')\n",
    " "
   ]
  },
  {
   "cell_type": "code",
   "execution_count": 316,
   "id": "10d7276a",
   "metadata": {},
   "outputs": [],
   "source": [
    "b=(cul['State']=='TX')| (cul['State']=='DE')| (cul['State']=='AK')"
   ]
  },
  {
   "cell_type": "code",
   "execution_count": 317,
   "id": "4618696b",
   "metadata": {},
   "outputs": [
    {
     "data": {
      "text/html": [
       "<div>\n",
       "<style scoped>\n",
       "    .dataframe tbody tr th:only-of-type {\n",
       "        vertical-align: middle;\n",
       "    }\n",
       "\n",
       "    .dataframe tbody tr th {\n",
       "        vertical-align: top;\n",
       "    }\n",
       "\n",
       "    .dataframe thead tr th {\n",
       "        text-align: left;\n",
       "    }\n",
       "\n",
       "    .dataframe thead tr:last-of-type th {\n",
       "        text-align: right;\n",
       "    }\n",
       "</style>\n",
       "<table border=\"1\" class=\"dataframe\">\n",
       "  <thead>\n",
       "    <tr>\n",
       "      <th></th>\n",
       "      <th>State</th>\n",
       "    </tr>\n",
       "    <tr>\n",
       "      <th></th>\n",
       "      <th>count</th>\n",
       "    </tr>\n",
       "    <tr>\n",
       "      <th>State</th>\n",
       "      <th></th>\n",
       "    </tr>\n",
       "  </thead>\n",
       "  <tbody>\n",
       "    <tr>\n",
       "      <th>AK</th>\n",
       "      <td>11</td>\n",
       "    </tr>\n",
       "    <tr>\n",
       "      <th>DE</th>\n",
       "      <td>15</td>\n",
       "    </tr>\n",
       "    <tr>\n",
       "      <th>TX</th>\n",
       "      <td>10</td>\n",
       "    </tr>\n",
       "  </tbody>\n",
       "</table>\n",
       "</div>"
      ],
      "text/plain": [
       "      State\n",
       "      count\n",
       "State      \n",
       "AK       11\n",
       "DE       15\n",
       "TX       10"
      ]
     },
     "execution_count": 317,
     "metadata": {},
     "output_type": "execute_result"
    }
   ],
   "source": [
    "cul[a&b].groupby('State').agg({'State':['count']})"
   ]
  },
  {
   "cell_type": "markdown",
   "id": "c794b960",
   "metadata": {},
   "source": [
    "# 11. Draw a pie chart between the aggregated value of claim amount based on gender and segment. Represent the claim amount as a percentage on the pie chart.\n"
   ]
  },
  {
   "cell_type": "code",
   "execution_count": 495,
   "id": "100b0d32",
   "metadata": {},
   "outputs": [
    {
     "data": {
      "text/html": [
       "<div>\n",
       "<style scoped>\n",
       "    .dataframe tbody tr th:only-of-type {\n",
       "        vertical-align: middle;\n",
       "    }\n",
       "\n",
       "    .dataframe tbody tr th {\n",
       "        vertical-align: top;\n",
       "    }\n",
       "\n",
       "    .dataframe thead th {\n",
       "        text-align: right;\n",
       "    }\n",
       "</style>\n",
       "<table border=\"1\" class=\"dataframe\">\n",
       "  <thead>\n",
       "    <tr style=\"text-align: right;\">\n",
       "      <th></th>\n",
       "      <th>gender</th>\n",
       "      <th>Segment</th>\n",
       "      <th>claim_amount</th>\n",
       "    </tr>\n",
       "  </thead>\n",
       "  <tbody>\n",
       "    <tr>\n",
       "      <th>0</th>\n",
       "      <td>Female</td>\n",
       "      <td>Gold</td>\n",
       "      <td>2109722</td>\n",
       "    </tr>\n",
       "    <tr>\n",
       "      <th>1</th>\n",
       "      <td>Female</td>\n",
       "      <td>Platinum</td>\n",
       "      <td>2369472</td>\n",
       "    </tr>\n",
       "    <tr>\n",
       "      <th>2</th>\n",
       "      <td>Female</td>\n",
       "      <td>Silver</td>\n",
       "      <td>1901896</td>\n",
       "    </tr>\n",
       "    <tr>\n",
       "      <th>3</th>\n",
       "      <td>Male</td>\n",
       "      <td>Gold</td>\n",
       "      <td>2701357</td>\n",
       "    </tr>\n",
       "    <tr>\n",
       "      <th>4</th>\n",
       "      <td>Male</td>\n",
       "      <td>Platinum</td>\n",
       "      <td>2098284</td>\n",
       "    </tr>\n",
       "    <tr>\n",
       "      <th>5</th>\n",
       "      <td>Male</td>\n",
       "      <td>Silver</td>\n",
       "      <td>2346607</td>\n",
       "    </tr>\n",
       "  </tbody>\n",
       "</table>\n",
       "</div>"
      ],
      "text/plain": [
       "   gender   Segment  claim_amount\n",
       "0  Female      Gold       2109722\n",
       "1  Female  Platinum       2369472\n",
       "2  Female    Silver       1901896\n",
       "3    Male      Gold       2701357\n",
       "4    Male  Platinum       2098284\n",
       "5    Male    Silver       2346607"
      ]
     },
     "execution_count": 495,
     "metadata": {},
     "output_type": "execute_result"
    }
   ],
   "source": [
    "y=cul.groupby(['gender','Segment'])['claim_amount'].sum().reset_index()\n",
    "y"
   ]
  },
  {
   "cell_type": "code",
   "execution_count": 319,
   "id": "661c3abd",
   "metadata": {},
   "outputs": [
    {
     "data": {
      "text/plain": [
       "<AxesSubplot:ylabel='claim_amount'>"
      ]
     },
     "execution_count": 319,
     "metadata": {},
     "output_type": "execute_result"
    },
    {
     "data": {
      "image/png": "[encoded data removed]",
      "text/plain": [
       "<Figure size 864x720 with 1 Axes>"
      ]
     },
     "metadata": {},
     "output_type": "display_data"
    }
   ],
   "source": [
    "cul.groupby(['gender','Segment'])['claim_amount'].sum().plot(kind='pie',autopct=('%2.1f%%'),figsize = (12,10))\n"
   ]
  },
  {
   "cell_type": "markdown",
   "id": "cbc2b69c",
   "metadata": {},
   "source": [
    "# 12. Among males and females, which gender had claimed the most for any type of driver related issues? E.g. This metric can be compared using a bar chart\n"
   ]
  },
  {
   "cell_type": "code",
   "execution_count": 324,
   "id": "d3f5b5ae",
   "metadata": {},
   "outputs": [],
   "source": [
    "a=cul['incident_cause'].str.contains('driver')\n",
    " "
   ]
  },
  {
   "cell_type": "code",
   "execution_count": 325,
   "id": "fd86d454",
   "metadata": {},
   "outputs": [
    {
     "data": {
      "text/plain": [
       "gender\n",
       "Female    222\n",
       "Male      284\n",
       "Name: gender, dtype: int64"
      ]
     },
     "execution_count": 325,
     "metadata": {},
     "output_type": "execute_result"
    }
   ],
   "source": [
    "cul[a].groupby('gender')['gender'].count()"
   ]
  },
  {
   "cell_type": "code",
   "execution_count": 326,
   "id": "88d585e6",
   "metadata": {},
   "outputs": [
    {
     "data": {
      "text/plain": [
       "<AxesSubplot:xlabel='gender'>"
      ]
     },
     "execution_count": 326,
     "metadata": {},
     "output_type": "execute_result"
    },
    {
     "data": {
      "image/png": "[encoded data removed]",
      "text/plain": [
       "<Figure size 432x288 with 1 Axes>"
      ]
     },
     "metadata": {
      "needs_background": "light"
     },
     "output_type": "display_data"
    }
   ],
   "source": [
    "cul[a].groupby('gender')['gender'].count().plot(kind='bar')"
   ]
  },
  {
   "cell_type": "markdown",
   "id": "577e31a0",
   "metadata": {},
   "source": [
    "\n",
    "# 13. Which age group had the maximum fraudulent policy claims? Visualize it on a bar chart.\n"
   ]
  },
  {
   "cell_type": "code",
   "execution_count": 493,
   "id": "8a8ad667",
   "metadata": {},
   "outputs": [
    {
     "data": {
      "text/plain": [
       "1085"
      ]
     },
     "execution_count": 493,
     "metadata": {},
     "output_type": "execute_result"
    }
   ],
   "source": [
    "cul['fraudulent'].count()"
   ]
  },
  {
   "cell_type": "code",
   "execution_count": 492,
   "id": "3b70ff82",
   "metadata": {},
   "outputs": [
    {
     "data": {
      "text/html": [
       "<div>\n",
       "<style scoped>\n",
       "    .dataframe tbody tr th:only-of-type {\n",
       "        vertical-align: middle;\n",
       "    }\n",
       "\n",
       "    .dataframe tbody tr th {\n",
       "        vertical-align: top;\n",
       "    }\n",
       "\n",
       "    .dataframe thead th {\n",
       "        text-align: right;\n",
       "    }\n",
       "</style>\n",
       "<table border=\"1\" class=\"dataframe\">\n",
       "  <thead>\n",
       "    <tr style=\"text-align: right;\">\n",
       "      <th></th>\n",
       "      <th>claim_id</th>\n",
       "      <th>CUST_ID</th>\n",
       "      <th>incident_cause</th>\n",
       "      <th>claim_date</th>\n",
       "      <th>claim_area</th>\n",
       "      <th>claim_type</th>\n",
       "      <th>claim_amount</th>\n",
       "      <th>total_policy_claims</th>\n",
       "      <th>fraudulent</th>\n",
       "      <th>gender</th>\n",
       "      <th>DateOfBirth</th>\n",
       "      <th>State</th>\n",
       "      <th>Contact</th>\n",
       "      <th>Segment</th>\n",
       "      <th>flag</th>\n",
       "      <th>age</th>\n",
       "      <th>age_group</th>\n",
       "      <th>month</th>\n",
       "      <th>year</th>\n",
       "      <th>Frauds</th>\n",
       "    </tr>\n",
       "  </thead>\n",
       "  <tbody>\n",
       "    <tr>\n",
       "      <th>2</th>\n",
       "      <td>53522022</td>\n",
       "      <td>30308357</td>\n",
       "      <td>other driver error</td>\n",
       "      <td>2018-02-02</td>\n",
       "      <td>Auto</td>\n",
       "      <td>Material only</td>\n",
       "      <td>3369</td>\n",
       "      <td>1.0</td>\n",
       "      <td>Yes</td>\n",
       "      <td>Female</td>\n",
       "      <td>1984-03-11</td>\n",
       "      <td>TN</td>\n",
       "      <td>7.986315e+09</td>\n",
       "      <td>Silver</td>\n",
       "      <td>0.0</td>\n",
       "      <td>34.0</td>\n",
       "      <td>Adult</td>\n",
       "      <td>2</td>\n",
       "      <td>2018</td>\n",
       "      <td>1</td>\n",
       "    </tr>\n",
       "    <tr>\n",
       "      <th>8</th>\n",
       "      <td>24050443</td>\n",
       "      <td>21831191</td>\n",
       "      <td>other driver error</td>\n",
       "      <td>2017-10-04</td>\n",
       "      <td>Auto</td>\n",
       "      <td>Injury only</td>\n",
       "      <td>38306</td>\n",
       "      <td>3.0</td>\n",
       "      <td>Yes</td>\n",
       "      <td>Male</td>\n",
       "      <td>1977-05-17</td>\n",
       "      <td>NH</td>\n",
       "      <td>4.197129e+09</td>\n",
       "      <td>Gold</td>\n",
       "      <td>0.0</td>\n",
       "      <td>40.0</td>\n",
       "      <td>Adult</td>\n",
       "      <td>10</td>\n",
       "      <td>2017</td>\n",
       "      <td>1</td>\n",
       "    </tr>\n",
       "  </tbody>\n",
       "</table>\n",
       "</div>"
      ],
      "text/plain": [
       "   claim_id   CUST_ID      incident_cause claim_date claim_area  \\\n",
       "2  53522022  30308357  other driver error 2018-02-02       Auto   \n",
       "8  24050443  21831191  other driver error 2017-10-04       Auto   \n",
       "\n",
       "      claim_type  claim_amount  total_policy_claims fraudulent  gender  \\\n",
       "2  Material only          3369                  1.0        Yes  Female   \n",
       "8    Injury only         38306                  3.0        Yes    Male   \n",
       "\n",
       "  DateOfBirth State       Contact Segment  flag   age age_group  month  year  \\\n",
       "2  1984-03-11    TN  7.986315e+09  Silver   0.0  34.0     Adult      2  2018   \n",
       "8  1977-05-17    NH  4.197129e+09    Gold   0.0  40.0     Adult     10  2017   \n",
       "\n",
       "   Frauds  \n",
       "2       1  \n",
       "8       1  "
      ]
     },
     "execution_count": 492,
     "metadata": {},
     "output_type": "execute_result"
    }
   ],
   "source": [
    "abc=cul['fraudulent']=='Yes'\n",
    "cul[abc].head(2)"
   ]
  },
  {
   "cell_type": "code",
   "execution_count": 490,
   "id": "0fce6576",
   "metadata": {},
   "outputs": [
    {
     "data": {
      "text/plain": [
       "age_group\n",
       "Adult    174\n",
       "Youth     73\n",
       "Name: fraudulent, dtype: int64"
      ]
     },
     "execution_count": 490,
     "metadata": {},
     "output_type": "execute_result"
    }
   ],
   "source": [
    "cul[abc].groupby('age_group')['fraudulent'].count()"
   ]
  },
  {
   "cell_type": "code",
   "execution_count": 491,
   "id": "010bbddf",
   "metadata": {},
   "outputs": [
    {
     "data": {
      "text/plain": [
       "<AxesSubplot:xlabel='age_group'>"
      ]
     },
     "execution_count": 491,
     "metadata": {},
     "output_type": "execute_result"
    },
    {
     "data": {
      "image/png": "[encoded data removed]",
      "text/plain": [
       "<Figure size 432x288 with 1 Axes>"
      ]
     },
     "metadata": {
      "needs_background": "light"
     },
     "output_type": "display_data"
    }
   ],
   "source": [
    "cul.groupby('age_group')['fraudulent'].count().plot(kind='bar',)"
   ]
  },
  {
   "cell_type": "markdown",
   "id": "8319684c",
   "metadata": {},
   "source": [
    "## 14. Visualize the monthly trend of the total amount that has been claimed by the customers. Ensure that on the “month” axis, the month is in a chronological order not alphabetical order.\n"
   ]
  },
  {
   "cell_type": "code",
   "execution_count": 288,
   "id": "2b945db7",
   "metadata": {},
   "outputs": [
    {
     "data": {
      "text/html": [
       "<div>\n",
       "<style scoped>\n",
       "    .dataframe tbody tr th:only-of-type {\n",
       "        vertical-align: middle;\n",
       "    }\n",
       "\n",
       "    .dataframe tbody tr th {\n",
       "        vertical-align: top;\n",
       "    }\n",
       "\n",
       "    .dataframe thead th {\n",
       "        text-align: right;\n",
       "    }\n",
       "</style>\n",
       "<table border=\"1\" class=\"dataframe\">\n",
       "  <thead>\n",
       "    <tr style=\"text-align: right;\">\n",
       "      <th></th>\n",
       "      <th>claim_id</th>\n",
       "      <th>CUST_ID</th>\n",
       "      <th>incident_cause</th>\n",
       "      <th>claim_date</th>\n",
       "      <th>claim_area</th>\n",
       "      <th>claim_type</th>\n",
       "      <th>claim_amount</th>\n",
       "      <th>total_policy_claims</th>\n",
       "      <th>fraudulent</th>\n",
       "      <th>gender</th>\n",
       "      <th>DateOfBirth</th>\n",
       "      <th>State</th>\n",
       "      <th>Contact</th>\n",
       "      <th>Segment</th>\n",
       "      <th>flag</th>\n",
       "      <th>age</th>\n",
       "      <th>age_group</th>\n",
       "      <th>month</th>\n",
       "      <th>year</th>\n",
       "    </tr>\n",
       "  </thead>\n",
       "  <tbody>\n",
       "    <tr>\n",
       "      <th>0</th>\n",
       "      <td>54004764</td>\n",
       "      <td>21868593</td>\n",
       "      <td>driver error</td>\n",
       "      <td>2017-11-27</td>\n",
       "      <td>Auto</td>\n",
       "      <td>Material only</td>\n",
       "      <td>2980.0</td>\n",
       "      <td>1.0</td>\n",
       "      <td>No</td>\n",
       "      <td>Female</td>\n",
       "      <td>1979-01-12</td>\n",
       "      <td>VT</td>\n",
       "      <td>7.899168e+09</td>\n",
       "      <td>Platinum</td>\n",
       "      <td>0.0</td>\n",
       "      <td>39.0</td>\n",
       "      <td>Adult</td>\n",
       "      <td>11</td>\n",
       "      <td>2017</td>\n",
       "    </tr>\n",
       "    <tr>\n",
       "      <th>1</th>\n",
       "      <td>33985796</td>\n",
       "      <td>75740424</td>\n",
       "      <td>crime</td>\n",
       "      <td>2018-10-03</td>\n",
       "      <td>Home</td>\n",
       "      <td>Material only</td>\n",
       "      <td>2980.0</td>\n",
       "      <td>3.0</td>\n",
       "      <td>No</td>\n",
       "      <td>Female</td>\n",
       "      <td>1970-01-13</td>\n",
       "      <td>ME</td>\n",
       "      <td>2.655431e+09</td>\n",
       "      <td>Silver</td>\n",
       "      <td>0.0</td>\n",
       "      <td>49.0</td>\n",
       "      <td>Adult</td>\n",
       "      <td>10</td>\n",
       "      <td>2018</td>\n",
       "    </tr>\n",
       "    <tr>\n",
       "      <th>2</th>\n",
       "      <td>53522022</td>\n",
       "      <td>30308357</td>\n",
       "      <td>other driver error</td>\n",
       "      <td>2018-02-02</td>\n",
       "      <td>Auto</td>\n",
       "      <td>Material only</td>\n",
       "      <td>3369.5</td>\n",
       "      <td>1.0</td>\n",
       "      <td>Yes</td>\n",
       "      <td>Female</td>\n",
       "      <td>1984-03-11</td>\n",
       "      <td>TN</td>\n",
       "      <td>7.986315e+09</td>\n",
       "      <td>Silver</td>\n",
       "      <td>0.0</td>\n",
       "      <td>34.0</td>\n",
       "      <td>Adult</td>\n",
       "      <td>2</td>\n",
       "      <td>2018</td>\n",
       "    </tr>\n",
       "    <tr>\n",
       "      <th>3</th>\n",
       "      <td>63017412</td>\n",
       "      <td>30308357</td>\n",
       "      <td>driver error</td>\n",
       "      <td>2018-04-04</td>\n",
       "      <td>Auto</td>\n",
       "      <td>Material only</td>\n",
       "      <td>1950.0</td>\n",
       "      <td>6.0</td>\n",
       "      <td>No</td>\n",
       "      <td>Female</td>\n",
       "      <td>1984-03-11</td>\n",
       "      <td>TN</td>\n",
       "      <td>7.986315e+09</td>\n",
       "      <td>Silver</td>\n",
       "      <td>0.0</td>\n",
       "      <td>34.0</td>\n",
       "      <td>Adult</td>\n",
       "      <td>4</td>\n",
       "      <td>2018</td>\n",
       "    </tr>\n",
       "    <tr>\n",
       "      <th>4</th>\n",
       "      <td>13015401</td>\n",
       "      <td>47830476</td>\n",
       "      <td>natural causes</td>\n",
       "      <td>2018-06-17</td>\n",
       "      <td>Auto</td>\n",
       "      <td>Material only</td>\n",
       "      <td>1680.0</td>\n",
       "      <td>1.0</td>\n",
       "      <td>No</td>\n",
       "      <td>Female</td>\n",
       "      <td>1986-05-01</td>\n",
       "      <td>MA</td>\n",
       "      <td>4.131878e+09</td>\n",
       "      <td>Silver</td>\n",
       "      <td>0.0</td>\n",
       "      <td>32.0</td>\n",
       "      <td>Adult</td>\n",
       "      <td>6</td>\n",
       "      <td>2018</td>\n",
       "    </tr>\n",
       "  </tbody>\n",
       "</table>\n",
       "</div>"
      ],
      "text/plain": [
       "   claim_id   CUST_ID      incident_cause claim_date claim_area  \\\n",
       "0  54004764  21868593        driver error 2017-11-27       Auto   \n",
       "1  33985796  75740424               crime 2018-10-03       Home   \n",
       "2  53522022  30308357  other driver error 2018-02-02       Auto   \n",
       "3  63017412  30308357        driver error 2018-04-04       Auto   \n",
       "4  13015401  47830476      natural causes 2018-06-17       Auto   \n",
       "\n",
       "      claim_type  claim_amount  total_policy_claims fraudulent  gender  \\\n",
       "0  Material only        2980.0                  1.0         No  Female   \n",
       "1  Material only        2980.0                  3.0         No  Female   \n",
       "2  Material only        3369.5                  1.0        Yes  Female   \n",
       "3  Material only        1950.0                  6.0         No  Female   \n",
       "4  Material only        1680.0                  1.0         No  Female   \n",
       "\n",
       "  DateOfBirth State       Contact   Segment  flag   age age_group  month  year  \n",
       "0  1979-01-12    VT  7.899168e+09  Platinum   0.0  39.0     Adult     11  2017  \n",
       "1  1970-01-13    ME  2.655431e+09    Silver   0.0  49.0     Adult     10  2018  \n",
       "2  1984-03-11    TN  7.986315e+09    Silver   0.0  34.0     Adult      2  2018  \n",
       "3  1984-03-11    TN  7.986315e+09    Silver   0.0  34.0     Adult      4  2018  \n",
       "4  1986-05-01    MA  4.131878e+09    Silver   0.0  32.0     Adult      6  2018  "
      ]
     },
     "execution_count": 288,
     "metadata": {},
     "output_type": "execute_result"
    }
   ],
   "source": [
    "cul.head()"
   ]
  },
  {
   "cell_type": "code",
   "execution_count": 280,
   "id": "ee914292",
   "metadata": {},
   "outputs": [],
   "source": [
    "cul['month']= cul['claim_date'].dt.month"
   ]
  },
  {
   "cell_type": "code",
   "execution_count": 282,
   "id": "1ae6223f",
   "metadata": {},
   "outputs": [],
   "source": [
    "cul['year']= cul['claim_date'].dt.year"
   ]
  },
  {
   "cell_type": "code",
   "execution_count": 470,
   "id": "6ba23050",
   "metadata": {},
   "outputs": [
    {
     "data": {
      "text/plain": [
       "month\n",
       "1     1331982\n",
       "2     1169898\n",
       "3     1320071\n",
       "4     1293881\n",
       "5     1114179\n",
       "6     1278819\n",
       "7     1378999\n",
       "8      911189\n",
       "9      982849\n",
       "10    1447660\n",
       "11     601115\n",
       "12     696696\n",
       "Name: claim_amount, dtype: int64"
      ]
     },
     "execution_count": 470,
     "metadata": {},
     "output_type": "execute_result"
    }
   ],
   "source": [
    "cul.groupby('month').claim_amount.sum()"
   ]
  },
  {
   "cell_type": "code",
   "execution_count": 328,
   "id": "e782481a",
   "metadata": {},
   "outputs": [
    {
     "data": {
      "text/plain": [
       "<AxesSubplot:xlabel='month'>"
      ]
     },
     "execution_count": 328,
     "metadata": {},
     "output_type": "execute_result"
    },
    {
     "data": {
      "image/png": "[encoded data removed]",
      "text/plain": [
       "<Figure size 432x288 with 1 Axes>"
      ]
     },
     "metadata": {
      "needs_background": "light"
     },
     "output_type": "display_data"
    }
   ],
   "source": [
    "cul.groupby('month').claim_amount.sum().plot(kind='line')"
   ]
  },
  {
   "cell_type": "markdown",
   "id": "2d82c61d",
   "metadata": {},
   "source": [
    "## 15. What is the average claim amount for gender and age categories and suitably represent the above using a facetted bar chart, one facet that represents fraudulent claims and the other for non-fraudulent claims. Based on the conclusions from exploratory analysis as well as suitable statistical tests, answer the below questions. Please include a detailed write-up on the parameters taken into consideration, the Hypothesis testing steps, conclusion from the p-values and the business implications of the statements.\n"
   ]
  },
  {
   "cell_type": "code",
   "execution_count": 455,
   "id": "795f1583",
   "metadata": {},
   "outputs": [],
   "source": [
    "f=cul.loc[(cul.fraudulent=='Yes')].groupby(['gender','age_group',])['claim_amount'].mean().reset_index(name='mean')\n",
    "nf=cul.loc[(cul.fraudulent=='No')].groupby(['gender','age_group'])['claim_amount'].mean().reset_index(name='mean')"
   ]
  },
  {
   "cell_type": "code",
   "execution_count": 456,
   "id": "3edda3b1",
   "metadata": {},
   "outputs": [],
   "source": [
    "e=nf.pivot(index='age_group',columns='gender',values='mean')"
   ]
  },
  {
   "cell_type": "code",
   "execution_count": 457,
   "id": "e1d76be1",
   "metadata": {},
   "outputs": [],
   "source": [
    "ef=f.pivot(index='age_group',columns='gender',values='mean')"
   ]
  },
  {
   "cell_type": "code",
   "execution_count": 458,
   "id": "1a721848",
   "metadata": {},
   "outputs": [
    {
     "data": {
      "text/plain": [
       "<AxesSubplot:title={'center':'fraudulent=Yes'}, xlabel='age_group'>"
      ]
     },
     "execution_count": 458,
     "metadata": {},
     "output_type": "execute_result"
    },
    {
     "data": {
      "image/png": "[encoded data removed]",
      "text/plain": [
       "<Figure size 432x288 with 1 Axes>"
      ]
     },
     "metadata": {
      "needs_background": "light"
     },
     "output_type": "display_data"
    }
   ],
   "source": [
    "ef.plot(kind='bar',title='fraudulent=Yes')"
   ]
  },
  {
   "cell_type": "code",
   "execution_count": 459,
   "id": "c9621676",
   "metadata": {},
   "outputs": [
    {
     "data": {
      "text/plain": [
       "<AxesSubplot:title={'center':'fraudulent=No'}, xlabel='age_group'>"
      ]
     },
     "execution_count": 459,
     "metadata": {},
     "output_type": "execute_result"
    },
    {
     "data": {
      "image/png": "[encoded data removed]",
      "text/plain": [
       "<Figure size 432x288 with 1 Axes>"
      ]
     },
     "metadata": {
      "needs_background": "light"
     },
     "output_type": "display_data"
    }
   ],
   "source": [
    "e.plot(kind='bar',title='fraudulent=No')"
   ]
  },
  {
   "cell_type": "markdown",
   "id": "d6eac68b",
   "metadata": {},
   "source": [
    "## 16. Is there any similarity in the amount claimed by males and females?"
   ]
  },
  {
   "cell_type": "code",
   "execution_count": 497,
   "id": "ae017341",
   "metadata": {},
   "outputs": [
    {
     "data": {
      "text/plain": [
       "gender\n",
       "Female    6381090\n",
       "Male      7146248\n",
       "Name: claim_amount, dtype: int64"
      ]
     },
     "execution_count": 497,
     "metadata": {},
     "output_type": "execute_result"
    }
   ],
   "source": [
    "cul.groupby('gender')['claim_amount'].sum()"
   ]
  },
  {
   "cell_type": "code",
   "execution_count": 403,
   "id": "06e28aa3",
   "metadata": {},
   "outputs": [
    {
     "data": {
      "text/plain": [
       "<AxesSubplot:ylabel='claim_amount'>"
      ]
     },
     "execution_count": 403,
     "metadata": {},
     "output_type": "execute_result"
    },
    {
     "data": {
      "image/png": "[encoded data removed]",
      "text/plain": [
       "<Figure size 288x360 with 1 Axes>"
      ]
     },
     "metadata": {},
     "output_type": "display_data"
    }
   ],
   "source": [
    "cul.groupby('gender')['claim_amount'].sum().plot(kind='pie',autopct='%2.1f%%',figsize=(4,5))"
   ]
  },
  {
   "cell_type": "code",
   "execution_count": 498,
   "id": "a0d1dc7f",
   "metadata": {},
   "outputs": [
    {
     "data": {
      "text/plain": [
       "gender\n",
       "Female    12062.551985\n",
       "Male      12852.964029\n",
       "Name: claim_amount, dtype: float64"
      ]
     },
     "execution_count": 498,
     "metadata": {},
     "output_type": "execute_result"
    }
   ],
   "source": [
    "cul.groupby('gender')['claim_amount'].mean()"
   ]
  },
  {
   "cell_type": "code",
   "execution_count": 499,
   "id": "c8fc0542",
   "metadata": {},
   "outputs": [
    {
     "data": {
      "text/plain": [
       "<AxesSubplot:ylabel='claim_amount'>"
      ]
     },
     "execution_count": 499,
     "metadata": {},
     "output_type": "execute_result"
    },
    {
     "data": {
      "image/png": "[encoded data removed]",
      "text/plain": [
       "<Figure size 288x360 with 1 Axes>"
      ]
     },
     "metadata": {},
     "output_type": "display_data"
    }
   ],
   "source": [
    "cul.groupby('gender')['claim_amount'].mean().plot(kind='pie',autopct='%2.1f%%',figsize=(4,5))"
   ]
  },
  {
   "cell_type": "markdown",
   "id": "6a9a9904",
   "metadata": {},
   "source": [
    "## 17. Is there any relationship between age category and segment?"
   ]
  },
  {
   "cell_type": "code",
   "execution_count": 355,
   "id": "53c5d436",
   "metadata": {},
   "outputs": [],
   "source": [
    "q=cul.groupby(['Segment','age_group'])['Segment'].count().reset_index(name='count')"
   ]
  },
  {
   "cell_type": "code",
   "execution_count": 359,
   "id": "b9887e58",
   "metadata": {},
   "outputs": [
    {
     "data": {
      "text/html": [
       "<div>\n",
       "<style scoped>\n",
       "    .dataframe tbody tr th:only-of-type {\n",
       "        vertical-align: middle;\n",
       "    }\n",
       "\n",
       "    .dataframe tbody tr th {\n",
       "        vertical-align: top;\n",
       "    }\n",
       "\n",
       "    .dataframe thead th {\n",
       "        text-align: right;\n",
       "    }\n",
       "</style>\n",
       "<table border=\"1\" class=\"dataframe\">\n",
       "  <thead>\n",
       "    <tr style=\"text-align: right;\">\n",
       "      <th>age_group</th>\n",
       "      <th>Adult</th>\n",
       "      <th>Childen</th>\n",
       "      <th>Youth</th>\n",
       "    </tr>\n",
       "    <tr>\n",
       "      <th>Segment</th>\n",
       "      <th></th>\n",
       "      <th></th>\n",
       "      <th></th>\n",
       "    </tr>\n",
       "  </thead>\n",
       "  <tbody>\n",
       "    <tr>\n",
       "      <th>Gold</th>\n",
       "      <td>271.0</td>\n",
       "      <td>1.0</td>\n",
       "      <td>103.0</td>\n",
       "    </tr>\n",
       "    <tr>\n",
       "      <th>Platinum</th>\n",
       "      <td>245.0</td>\n",
       "      <td>1.0</td>\n",
       "      <td>116.0</td>\n",
       "    </tr>\n",
       "    <tr>\n",
       "      <th>Silver</th>\n",
       "      <td>248.0</td>\n",
       "      <td>NaN</td>\n",
       "      <td>100.0</td>\n",
       "    </tr>\n",
       "  </tbody>\n",
       "</table>\n",
       "</div>"
      ],
      "text/plain": [
       "age_group  Adult  Childen  Youth\n",
       "Segment                         \n",
       "Gold       271.0      1.0  103.0\n",
       "Platinum   245.0      1.0  116.0\n",
       "Silver     248.0      NaN  100.0"
      ]
     },
     "execution_count": 359,
     "metadata": {},
     "output_type": "execute_result"
    }
   ],
   "source": [
    "p=q.pivot(index = \"Segment\", columns = \"age_group\", values = \"count\")\n",
    "p"
   ]
  },
  {
   "cell_type": "code",
   "execution_count": 357,
   "id": "ac8adc78",
   "metadata": {},
   "outputs": [
    {
     "data": {
      "text/plain": [
       "<AxesSubplot:xlabel='Segment'>"
      ]
     },
     "execution_count": 357,
     "metadata": {},
     "output_type": "execute_result"
    },
    {
     "data": {
      "image/png": "[encoded data removed]",
      "text/plain": [
       "<Figure size 648x504 with 1 Axes>"
      ]
     },
     "metadata": {
      "needs_background": "light"
     },
     "output_type": "display_data"
    }
   ],
   "source": [
    "p.plot(kind='bar',figsize = (9,7))"
   ]
  },
  {
   "cell_type": "markdown",
   "id": "4de7e288",
   "metadata": {},
   "source": [
    "## 19. Is there any difference between age groups and insurance claims?"
   ]
  },
  {
   "cell_type": "code",
   "execution_count": 434,
   "id": "6488d8cf",
   "metadata": {},
   "outputs": [
    {
     "data": {
      "text/html": [
       "<div>\n",
       "<style scoped>\n",
       "    .dataframe tbody tr th:only-of-type {\n",
       "        vertical-align: middle;\n",
       "    }\n",
       "\n",
       "    .dataframe tbody tr th {\n",
       "        vertical-align: top;\n",
       "    }\n",
       "\n",
       "    .dataframe thead th {\n",
       "        text-align: right;\n",
       "    }\n",
       "</style>\n",
       "<table border=\"1\" class=\"dataframe\">\n",
       "  <thead>\n",
       "    <tr style=\"text-align: right;\">\n",
       "      <th></th>\n",
       "      <th>age_group</th>\n",
       "      <th>total_policy_claims</th>\n",
       "    </tr>\n",
       "  </thead>\n",
       "  <tbody>\n",
       "    <tr>\n",
       "      <th>0</th>\n",
       "      <td>Adult</td>\n",
       "      <td>1196.695814</td>\n",
       "    </tr>\n",
       "    <tr>\n",
       "      <th>1</th>\n",
       "      <td>Childen</td>\n",
       "      <td>2.000000</td>\n",
       "    </tr>\n",
       "    <tr>\n",
       "      <th>2</th>\n",
       "      <td>Youth</td>\n",
       "      <td>523.173953</td>\n",
       "    </tr>\n",
       "  </tbody>\n",
       "</table>\n",
       "</div>"
      ],
      "text/plain": [
       "  age_group  total_policy_claims\n",
       "0     Adult          1196.695814\n",
       "1   Childen             2.000000\n",
       "2     Youth           523.173953"
      ]
     },
     "execution_count": 434,
     "metadata": {},
     "output_type": "execute_result"
    }
   ],
   "source": [
    "cul.groupby('age_group')['total_policy_claims'].sum().reset_index()"
   ]
  },
  {
   "cell_type": "markdown",
   "id": "57397042",
   "metadata": {},
   "source": [
    "## 20. Is there any relationship between total number of policy claims and the claimed amount?\n"
   ]
  },
  {
   "cell_type": "code",
   "execution_count": 462,
   "id": "a1a20122",
   "metadata": {},
   "outputs": [
    {
     "data": {
      "text/plain": [
       "total_policy_claims\n",
       "1.000000    9752842\n",
       "1.586977     139497\n",
       "2.000000    1445373\n",
       "3.000000    1111800\n",
       "4.000000     655302\n",
       "5.000000     230314\n",
       "6.000000     142867\n",
       "7.000000      46066\n",
       "8.000000       3277\n",
       "Name: claim_amount, dtype: int64"
      ]
     },
     "execution_count": 462,
     "metadata": {},
     "output_type": "execute_result"
    }
   ],
   "source": [
    "pc=cul.groupby('total_policy_claims').claim_amount.sum()\n",
    "pc"
   ]
  },
  {
   "cell_type": "code",
   "execution_count": 465,
   "id": "dfd1175c",
   "metadata": {},
   "outputs": [
    {
     "data": {
      "text/plain": [
       "<AxesSubplot:xlabel='total_policy_claims'>"
      ]
     },
     "execution_count": 465,
     "metadata": {},
     "output_type": "execute_result"
    },
    {
     "data": {
      "image/png": "[encoded data removed]",
      "text/plain": [
       "<Figure size 432x288 with 1 Axes>"
      ]
     },
     "metadata": {
      "needs_background": "light"
     },
     "output_type": "display_data"
    }
   ],
   "source": [
    "pc.plot.bar()"
   ]
  },
  {
   "cell_type": "code",
   "execution_count": 500,
   "id": "86834c82",
   "metadata": {},
   "outputs": [
    {
     "data": {
      "text/plain": [
       "total_policy_claims\n",
       "1.000000    785\n",
       "1.586977     10\n",
       "2.000000    105\n",
       "3.000000     86\n",
       "4.000000     59\n",
       "5.000000     27\n",
       "6.000000     10\n",
       "7.000000      2\n",
       "8.000000      1\n",
       "Name: total_policy_claims, dtype: int64"
      ]
     },
     "execution_count": 500,
     "metadata": {},
     "output_type": "execute_result"
    }
   ],
   "source": [
    "cul.groupby('total_policy_claims').total_policy_claims.count()"
   ]
  },
  {
   "cell_type": "code",
   "execution_count": null,
   "id": "443f64fc",
   "metadata": {},
   "outputs": [],
   "source": []
  }
 ],
 "metadata": {
  "kernelspec": {
   "display_name": "Python 3 (ipykernel)",
   "language": "python",
   "name": "python3"
  },
  "language_info": {
   "codemirror_mode": {
    "name": "ipython",
    "version": 3
   },
   "file_extension": ".py",
   "mimetype": "text/x-python",
   "name": "python",
   "nbconvert_exporter": "python",
   "pygments_lexer": "ipython3",
   "version": "3.10.0"
  }
 },
 "nbformat": 4,
 "nbformat_minor": 5
}
